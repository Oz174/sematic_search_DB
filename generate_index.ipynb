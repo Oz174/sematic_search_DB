{
 "cells": [
  {
   "cell_type": "code",
   "execution_count": 1,
   "metadata": {},
   "outputs": [],
   "source": [
    "from vec_db import VecDB\n",
    "import numpy as np "
   ]
  },
  {
   "cell_type": "markdown",
   "metadata": {},
   "source": [
    "## **For each size a folder named \"saved_db\" is generated , zip this folder and upload to drive**"
   ]
  },
  {
   "cell_type": "markdown",
   "metadata": {},
   "source": [
    "## Generate Indices for : 1M , 5M , 10M "
   ]
  },
  {
   "cell_type": "code",
   "execution_count": null,
   "metadata": {},
   "outputs": [],
   "source": []
  },
  {
   "cell_type": "code",
   "execution_count": 2,
   "metadata": {},
   "outputs": [],
   "source": [
    "rng = np.random.default_rng(200)\n",
    "# 10**6 , 5*10**6 , 10**7\n",
    "vectors = rng.random((10**5,70) , dtype=np.float32)\n",
    "\n",
    "i = 0\n",
    "records_dict = [{\"id\": i, \"embed\": list(row)} for i, row in enumerate(vectors)]"
   ]
  },
  {
   "cell_type": "code",
   "execution_count": 3,
   "metadata": {},
   "outputs": [
    {
     "name": "stdout",
     "output_type": "stream",
     "text": [
      "951\n",
      "begin clustering\n",
      "Init 1/1 with method k-means++\n",
      "Inertia for init 1/1: 662284.4969350238\n",
      "Minibatch step 1/100: mean batch inertia: 6.62172513657306\n",
      "Minibatch step 2/100: mean batch inertia: 4.933457012632148, ewa inertia: 4.933457012632148\n",
      "Minibatch step 3/100: mean batch inertia: 4.902444222116019, ewa inertia: 4.902444222116019\n",
      "Minibatch step 4/100: mean batch inertia: 4.888418168854718, ewa inertia: 4.888418168854718\n",
      "Minibatch step 5/100: mean batch inertia: 4.876155926181821, ewa inertia: 4.876155926181821\n",
      "Minibatch step 6/100: mean batch inertia: 4.870201777026597, ewa inertia: 4.870201777026597\n",
      "Minibatch step 7/100: mean batch inertia: 4.863474451571094, ewa inertia: 4.863474451571094\n",
      "Minibatch step 8/100: mean batch inertia: 4.8637294312134935, ewa inertia: 4.8637294312134935\n",
      "Minibatch step 9/100: mean batch inertia: 4.85888373738964, ewa inertia: 4.85888373738964\n",
      "Minibatch step 10/100: mean batch inertia: 4.858281574230385, ewa inertia: 4.858281574230385\n",
      "Minibatch step 11/100: mean batch inertia: 4.856292416921127, ewa inertia: 4.856292416921127\n",
      "Minibatch step 12/100: mean batch inertia: 4.850583048552384, ewa inertia: 4.850583048552384\n",
      "Minibatch step 13/100: mean batch inertia: 4.851198235747058, ewa inertia: 4.851198235747058\n",
      "Minibatch step 14/100: mean batch inertia: 4.8461197682044395, ewa inertia: 4.8461197682044395\n",
      "Minibatch step 15/100: mean batch inertia: 4.849915508612906, ewa inertia: 4.849915508612906\n",
      "Minibatch step 16/100: mean batch inertia: 4.847877336780025, ewa inertia: 4.847877336780025\n",
      "Minibatch step 17/100: mean batch inertia: 4.846789226262798, ewa inertia: 4.846789226262798\n",
      "Minibatch step 18/100: mean batch inertia: 4.846232688077119, ewa inertia: 4.846232688077119\n",
      "Minibatch step 19/100: mean batch inertia: 4.843946274796023, ewa inertia: 4.843946274796023\n",
      "Minibatch step 20/100: mean batch inertia: 4.842162644542366, ewa inertia: 4.842162644542366\n",
      "Minibatch step 21/100: mean batch inertia: 4.844840909511778, ewa inertia: 4.844840909511778\n",
      "Minibatch step 22/100: mean batch inertia: 4.84045247936612, ewa inertia: 4.84045247936612\n",
      "Minibatch step 23/100: mean batch inertia: 4.84463367455446, ewa inertia: 4.84463367455446\n",
      "Minibatch step 24/100: mean batch inertia: 4.843222843049117, ewa inertia: 4.843222843049117\n",
      "Minibatch step 25/100: mean batch inertia: 4.841012181804201, ewa inertia: 4.841012181804201\n",
      "Minibatch step 26/100: mean batch inertia: 4.840272955611274, ewa inertia: 4.840272955611274\n",
      "Minibatch step 27/100: mean batch inertia: 4.837402460611362, ewa inertia: 4.837402460611362\n",
      "Minibatch step 28/100: mean batch inertia: 4.839962925108963, ewa inertia: 4.839962925108963\n",
      "Minibatch step 29/100: mean batch inertia: 4.839424983946053, ewa inertia: 4.839424983946053\n",
      "Minibatch step 30/100: mean batch inertia: 4.840338408676287, ewa inertia: 4.840338408676287\n",
      "Minibatch step 31/100: mean batch inertia: 4.837903536684289, ewa inertia: 4.837903536684289\n",
      "Minibatch step 32/100: mean batch inertia: 4.8410206630198225, ewa inertia: 4.8410206630198225\n",
      "Minibatch step 33/100: mean batch inertia: 4.840290759424639, ewa inertia: 4.840290759424639\n",
      "Minibatch step 34/100: mean batch inertia: 4.834518631604858, ewa inertia: 4.834518631604858\n",
      "Minibatch step 35/100: mean batch inertia: 4.837725936178835, ewa inertia: 4.837725936178835\n",
      "Minibatch step 36/100: mean batch inertia: 4.835949610107572, ewa inertia: 4.835949610107572\n",
      "Minibatch step 37/100: mean batch inertia: 4.8347987657105715, ewa inertia: 4.8347987657105715\n",
      "Minibatch step 38/100: mean batch inertia: 4.836510928135742, ewa inertia: 4.836510928135742\n",
      "Minibatch step 39/100: mean batch inertia: 4.836208667231051, ewa inertia: 4.836208667231051\n",
      "Minibatch step 40/100: mean batch inertia: 4.833970991255788, ewa inertia: 4.833970991255788\n",
      "Minibatch step 41/100: mean batch inertia: 4.836298151053277, ewa inertia: 4.836298151053277\n",
      "Minibatch step 42/100: mean batch inertia: 4.836672826425329, ewa inertia: 4.836672826425329\n",
      "Minibatch step 43/100: mean batch inertia: 4.835395385163457, ewa inertia: 4.835395385163457\n",
      "Minibatch step 44/100: mean batch inertia: 4.839354508219612, ewa inertia: 4.839354508219612\n",
      "Minibatch step 45/100: mean batch inertia: 4.836264848385629, ewa inertia: 4.836264848385629\n",
      "Minibatch step 46/100: mean batch inertia: 4.837561025754807, ewa inertia: 4.837561025754807\n",
      "Minibatch step 47/100: mean batch inertia: 4.835943031505167, ewa inertia: 4.835943031505167\n",
      "Minibatch step 48/100: mean batch inertia: 4.83691950140323, ewa inertia: 4.83691950140323\n",
      "Minibatch step 49/100: mean batch inertia: 4.834916426563083, ewa inertia: 4.834916426563083\n",
      "Minibatch step 50/100: mean batch inertia: 4.832961711930312, ewa inertia: 4.832961711930312\n",
      "Minibatch step 51/100: mean batch inertia: 4.832676165987572, ewa inertia: 4.832676165987572\n",
      "Minibatch step 52/100: mean batch inertia: 4.83381940246905, ewa inertia: 4.83381940246905\n",
      "Minibatch step 53/100: mean batch inertia: 4.833172016101506, ewa inertia: 4.833172016101506\n",
      "Minibatch step 54/100: mean batch inertia: 4.829900154600419, ewa inertia: 4.829900154600419\n",
      "Minibatch step 55/100: mean batch inertia: 4.833960930639754, ewa inertia: 4.833960930639754\n",
      "Minibatch step 56/100: mean batch inertia: 4.833672133340987, ewa inertia: 4.833672133340987\n",
      "Minibatch step 57/100: mean batch inertia: 4.834469913307245, ewa inertia: 4.834469913307245\n",
      "Minibatch step 58/100: mean batch inertia: 4.834469921022563, ewa inertia: 4.834469921022563\n",
      "Minibatch step 59/100: mean batch inertia: 4.835945728204068, ewa inertia: 4.835945728204068\n",
      "Minibatch step 60/100: mean batch inertia: 4.832476494800748, ewa inertia: 4.832476494800748\n",
      "Minibatch step 61/100: mean batch inertia: 4.831457227583999, ewa inertia: 4.831457227583999\n",
      "Minibatch step 62/100: mean batch inertia: 4.83113708480266, ewa inertia: 4.83113708480266\n",
      "Minibatch step 63/100: mean batch inertia: 4.833450847107515, ewa inertia: 4.833450847107515\n",
      "Minibatch step 64/100: mean batch inertia: 4.829811929972418, ewa inertia: 4.829811929972418\n",
      "Minibatch step 65/100: mean batch inertia: 4.829906426691822, ewa inertia: 4.829906426691822\n",
      "Minibatch step 66/100: mean batch inertia: 4.834408981652432, ewa inertia: 4.834408981652432\n",
      "Minibatch step 67/100: mean batch inertia: 4.831671670427098, ewa inertia: 4.831671670427098\n",
      "Minibatch step 68/100: mean batch inertia: 4.828698545418769, ewa inertia: 4.828698545418769\n",
      "Minibatch step 69/100: mean batch inertia: 4.8301110478012115, ewa inertia: 4.8301110478012115\n",
      "Minibatch step 70/100: mean batch inertia: 4.829695767037526, ewa inertia: 4.829695767037526\n",
      "Minibatch step 71/100: mean batch inertia: 4.83180384900965, ewa inertia: 4.83180384900965\n",
      "Minibatch step 72/100: mean batch inertia: 4.830638957065193, ewa inertia: 4.830638957065193\n",
      "Minibatch step 73/100: mean batch inertia: 4.831370268834991, ewa inertia: 4.831370268834991\n",
      "Minibatch step 74/100: mean batch inertia: 4.831674541021675, ewa inertia: 4.831674541021675\n",
      "Minibatch step 75/100: mean batch inertia: 4.831270631718993, ewa inertia: 4.831270631718993\n",
      "Minibatch step 76/100: mean batch inertia: 4.831855103390117, ewa inertia: 4.831855103390117\n",
      "Minibatch step 77/100: mean batch inertia: 4.830167785902352, ewa inertia: 4.830167785902352\n",
      "Minibatch step 78/100: mean batch inertia: 4.83518500234035, ewa inertia: 4.83518500234035\n",
      "Converged (lack of improvement in inertia) at step 78/100\n",
      "after clustering\n",
      "before save clusters\n",
      "before writing\n"
     ]
    }
   ],
   "source": [
    "db = VecDB()\n",
    "db.insert_records(records_dict) #=> it will take time "
   ]
  },
  {
   "cell_type": "code",
   "execution_count": 9,
   "metadata": {},
   "outputs": [],
   "source": [
    "query_seed = 50 \n",
    "rng_query = np.random.default_rng(query_seed)\n",
    "\n",
    "query = rng_query.random((1,70) , dtype=np.float32)   "
   ]
  },
  {
   "cell_type": "markdown",
   "metadata": {},
   "source": [
    "## Test Clusters (50 , 100 , 150) --> I've been using 50 in vec_db and it's fine \n",
    "## **Test Before Uploading** "
   ]
  },
  {
   "cell_type": "code",
   "execution_count": 5,
   "metadata": {},
   "outputs": [],
   "source": [
    "import time\n",
    "from dataclasses import dataclass\n",
    "from typing import List\n",
    "\n",
    "AVG_OVERX_ROWS = 10\n",
    "\n",
    "\n",
    "@dataclass\n",
    "class Result:\n",
    "    run_time: float\n",
    "    top_k: int\n",
    "    db_ids: List[int]\n",
    "    actual_ids: List[int]\n",
    "\n",
    "\n",
    "def run_queries(db, np_rows, top_k, num_runs):\n",
    "    results = []\n",
    "    for _ in range(num_runs):\n",
    "        query = np.random.random((1, 70))\n",
    "\n",
    "        tic = time.time()\n",
    "        db_ids = db.retrive(query, top_k)\n",
    "        toc = time.time()\n",
    "        run_time = toc - tic\n",
    "\n",
    "        tic = time.time()\n",
    "        actual_ids = (\n",
    "            np.argsort(\n",
    "                np_rows.dot(query.T).T\n",
    "                / (np.linalg.norm(np_rows, axis=1) * np.linalg.norm(query)),\n",
    "                axis=1,\n",
    "            )\n",
    "            .squeeze()\n",
    "            .tolist()[::-1]\n",
    "        )\n",
    "        toc = time.time()\n",
    "        np_run_time = toc - tic\n",
    "\n",
    "        results.append(Result(run_time, top_k, db_ids, actual_ids))\n",
    "    return results\n",
    "\n",
    "\n",
    "def eval(results: List[Result]):\n",
    "    # scores are negative. So getting 0 is the best score.\n",
    "    scores = []\n",
    "    run_time = []\n",
    "    for res in results:\n",
    "        run_time.append(res.run_time)\n",
    "        # case for retireving number not equal to top_k, socre will be the lowest\n",
    "        if len(set(res.db_ids)) != res.top_k or len(res.db_ids) != res.top_k:\n",
    "            scores.append(-1 * len(res.actual_ids) * res.top_k)\n",
    "            continue\n",
    "        score = 0\n",
    "        for id in res.db_ids:\n",
    "            try:\n",
    "                ind = res.actual_ids.index(id)\n",
    "                if ind > res.top_k * 3:\n",
    "                    score -= ind\n",
    "            except:\n",
    "                score -= len(res.actual_ids)\n",
    "        scores.append(score)\n",
    "\n",
    "    return sum(scores) / len(scores), sum(run_time) / len(run_time)"
   ]
  },
  {
   "cell_type": "code",
   "execution_count": 10,
   "metadata": {},
   "outputs": [
    {
     "name": "stdout",
     "output_type": "stream",
     "text": [
      "(0.0, 0.7171332836151123)\n"
     ]
    }
   ],
   "source": [
    "res = run_queries(db, vectors, 5, 1) #=> 100k vectors results on query seed 50 \n",
    "print(eval(res))"
   ]
  },
  {
   "cell_type": "code",
   "execution_count": null,
   "metadata": {},
   "outputs": [],
   "source": [
    "del db\n",
    "del vectors"
   ]
  }
 ],
 "metadata": {
  "kernelspec": {
   "display_name": "Python 3",
   "language": "python",
   "name": "python3"
  },
  "language_info": {
   "codemirror_mode": {
    "name": "ipython",
    "version": 3
   },
   "file_extension": ".py",
   "mimetype": "text/x-python",
   "name": "python",
   "nbconvert_exporter": "python",
   "pygments_lexer": "ipython3",
   "version": "3.12.0"
  }
 },
 "nbformat": 4,
 "nbformat_minor": 2
}
