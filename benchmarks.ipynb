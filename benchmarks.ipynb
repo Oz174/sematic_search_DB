{
 "cells": [
  {
   "cell_type": "code",
   "execution_count": 1,
   "id": "515508f1",
   "metadata": {},
   "outputs": [],
   "source": [
    "import faiss"
   ]
  },
  {
   "cell_type": "code",
   "execution_count": 2,
   "id": "2c3317cc",
   "metadata": {},
   "outputs": [],
   "source": [
    "import numpy as np "
   ]
  },
  {
   "cell_type": "code",
   "execution_count": 3,
   "id": "e876e17e",
   "metadata": {},
   "outputs": [
    {
     "data": {
      "text/plain": [
       "(100000, 70)"
      ]
     },
     "execution_count": 3,
     "metadata": {},
     "output_type": "execute_result"
    }
   ],
   "source": [
    "rng = np.random.default_rng(100)\n",
    "vectors = rng.random((10**5, 70), dtype=np.float32)\n",
    "\n",
    "vectors.shape"
   ]
  },
  {
   "cell_type": "code",
   "execution_count": 4,
   "id": "18a56da3",
   "metadata": {},
   "outputs": [],
   "source": [
    "data = vectors.copy()"
   ]
  },
  {
   "cell_type": "code",
   "execution_count": 10,
   "id": "349ae2c7",
   "metadata": {},
   "outputs": [],
   "source": [
    "rng = np.random.default_rng(100)\n",
    "Xtrain = rng.random((5000, 70), dtype=np.float32) "
   ]
  },
  {
   "cell_type": "code",
   "execution_count": 7,
   "id": "fe3e2a8d",
   "metadata": {},
   "outputs": [],
   "source": [
    "rng_query = np.random.default_rng(100)\n",
    "query = rng_query.random((1, 70), dtype=np.float32)"
   ]
  },
  {
   "cell_type": "code",
   "execution_count": 29,
   "id": "62dab412",
   "metadata": {},
   "outputs": [
    {
     "data": {
      "text/plain": [
       "[89273, 70829, 92082, 67825, 76497]"
      ]
     },
     "execution_count": 29,
     "metadata": {},
     "output_type": "execute_result"
    }
   ],
   "source": [
    "# cosine similarity\n",
    "np.argsort(vectors.dot(query.T).T / (np.linalg.norm(vectors, axis=1) * np.linalg.norm(query)), axis= 1).squeeze().tolist()[::-1][:5]"
   ]
  },
  {
   "cell_type": "markdown",
   "id": "549d571e",
   "metadata": {},
   "source": [
    "## Trial 1 : Using IndexFlatL2 as coarse quantizer and IVFPQ "
   ]
  },
  {
   "cell_type": "code",
   "execution_count": 17,
   "id": "40326bc2",
   "metadata": {},
   "outputs": [
    {
     "name": "stdout",
     "output_type": "stream",
     "text": [
      "m =  7 nlists =  256 nbits =  8 D =  [[5.6489396 5.669654  5.6715555 5.801227  5.8683796]] I =  [[  333 67825 70829 92502 88749]]\n",
      "m =  7 nlists =  256 nbits =  11 D =  [[5.6473274 5.792086  6.2040205 6.315798  6.3201523]] I =  [[95806 47841 74406 78122 67825]]\n",
      "m =  7 nlists =  512 nbits =  8 D =  [[4.382058  4.726253  5.161772  5.269694  5.5039954]] I =  [[69332 69743 82419 67883 59467]]\n",
      "m =  7 nlists =  512 nbits =  11 D =  [[5.162032  5.615609  5.655964  5.774118  5.8294487]] I =  [[69332 11590 71309 45729 52689]]\n",
      "m =  7 nlists =  1024 nbits =  8 D =  [[4.1817346 4.343134  4.6996837 4.736382  4.893241 ]] I =  [[37014 67883 86578 73084 67825]]\n",
      "m =  7 nlists =  1024 nbits =  11 D =  [[4.5497737 5.0774665 5.1846905 5.1952014 5.2746954]] I =  [[73084 67825 67883 95297 89435]]\n",
      "m =  7 nlists =  2048 nbits =  8 D =  [[4.215405  4.320094  4.4152    4.6056566 4.609274 ]] I =  [[80268 23798 99141 61164 56683]]\n",
      "m =  7 nlists =  2048 nbits =  11 D =  [[4.6056376 5.0779853 5.1461983 5.369644  5.421862 ]] I =  [[99141 29447 45228 58007 64448]]\n",
      "m =  7 nlists =  4096 nbits =  8 D =  [[1.8046923 2.0095866 5.138672  5.1555552 5.3304834]] I =  [[95806 67883 49012 79395 56683]]\n",
      "m =  7 nlists =  4096 nbits =  11 D =  [[2.3963885 2.4668078 5.521599  5.5283756 5.6519675]] I =  [[95806 67883 77803 70948 36544]]\n",
      "m =  10 nlists =  256 nbits =  8 D =  [[5.6159544 5.651064  5.660163  5.928303  6.1582894]] I =  [[37242 10574 74406 70829 25545]]\n",
      "m =  10 nlists =  256 nbits =  11 D =  [[5.6621604 5.9972677 6.0389886 6.067412  6.400394 ]] I =  [[70829 40420 99762 95806 17656]]\n",
      "m =  10 nlists =  512 nbits =  8 D =  [[5.4646535 5.4850206 5.607972  5.7334714 5.8572254]] I =  [[69332 40420 61230 67883 79455]]\n",
      "m =  10 nlists =  512 nbits =  11 D =  [[5.1106434 5.5575542 5.562803  6.020073  6.040021 ]] I =  [[69332 52689 95806 79455 67883]]\n",
      "m =  10 nlists =  1024 nbits =  8 D =  [[4.2949977 5.061162  5.3018475 5.3040123 5.418391 ]] I =  [[67883 55335 52804 67825 46806]]\n",
      "m =  10 nlists =  1024 nbits =  11 D =  [[5.215925  5.5782466 5.851487  5.86787   5.89237  ]] I =  [[  871 67825 84811 95297 47992]]\n",
      "m =  10 nlists =  2048 nbits =  8 D =  [[4.673293 4.749293 5.187349 5.22503  5.319107]] I =  [[99141 45228 80268 56683 56360]]\n",
      "m =  10 nlists =  2048 nbits =  11 D =  [[4.964386  5.113579  5.172432  5.3226404 5.6559925]] I =  [[70829 14373 45228 99141 92082]]\n",
      "m =  10 nlists =  4096 nbits =  8 D =  [[2.2231631 2.552624  5.1130204 5.162447  5.243108 ]] I =  [[67883 95806 49012 98150 99141]]\n",
      "m =  10 nlists =  4096 nbits =  11 D =  [[2.8804455 3.3550205 5.330139  5.6144085 5.798157 ]] I =  [[67883 95806 14373 99141 12290]]\n",
      "m =  14 nlists =  256 nbits =  8 D =  [[5.7739177 5.9765606 6.3452597 6.347832  6.3489437]] I =  [[67825 95806 37242 86132 70829]]\n",
      "m =  14 nlists =  256 nbits =  11 D =  [[5.9504557 6.1617837 6.41034   6.4553275 6.4564867]] I =  [[40420 95806 67825 10574 70829]]\n",
      "m =  14 nlists =  512 nbits =  8 D =  [[5.5365944 5.6747475 5.886442  6.005322  6.2153606]] I =  [[69332 95806 61230 67883 35365]]\n",
      "m =  14 nlists =  512 nbits =  11 D =  [[5.659942  5.8906326 5.907896  5.9433527 6.356412 ]] I =  [[67883 79455 69332 52689 21470]]\n",
      "m =  14 nlists =  1024 nbits =  8 D =  [[5.090681  5.2592363 5.306082  5.756832  5.924658 ]] I =  [[67825 37014 67883 73084 95806]]\n",
      "m =  14 nlists =  1024 nbits =  11 D =  [[5.237791  5.7929764 5.8408194 6.0070543 6.055096 ]] I =  [[67883 92082 67825 83624 73084]]\n",
      "m =  14 nlists =  2048 nbits =  8 D =  [[4.512721  5.1005564 5.3484936 5.5597496 5.7118335]] I =  [[99141 45228 80268 14373 95192]]\n",
      "m =  14 nlists =  2048 nbits =  11 D =  [[5.59831   5.679248  5.727764  6.0302753 6.092422 ]] I =  [[99141 45228 70829 58007  9198]]\n",
      "m =  14 nlists =  4096 nbits =  8 D =  [[2.8897996 3.2017417 4.8821526 5.3004646 5.3231945]] I =  [[67883 95806 89273   333 83624]]\n",
      "m =  14 nlists =  4096 nbits =  11 D =  [[3.499258  3.97389   5.6108794 5.624228  5.6852956]] I =  [[67883 95806 89273 76497   333]]\n"
     ]
    }
   ],
   "source": [
    "quantizer = faiss.IndexFlatL2(data.shape[1])\n",
    "m = [7, 10 , 14] #=> reduceDimension  \n",
    "nlists = [256 , 512 , 1024 , 2048 , 4096] #number of clusters\n",
    "nbits = [8 , 11] #number of bits per vector (representative centroids count )\n",
    "\n",
    "for i in m:\n",
    "    for j in nlists:\n",
    "        for k in nbits:\n",
    "            index = faiss.IndexIVFPQ(quantizer,data.shape[1],j,i,k)\n",
    "            index.train(Xtrain)\n",
    "            index.add(data)\n",
    "            index.nprobe = 10 \n",
    "            D, I = index.search(query, 5)\n",
    "            print(\"m = \",i,\"nlists = \" ,j , \"nbits = \" , k,\"D = \",D,\"I = \",I)\n",
    "        # index.reset()\n",
    "# index = faiss.IndexIVFPQ(quantizer,data.shape[1],256,7,8) #=> Quantizer , Dimension , clusters , reduceDimension , nbits"
   ]
  },
  {
   "cell_type": "code",
   "execution_count": 16,
   "id": "b7da4763",
   "metadata": {},
   "outputs": [
    {
     "name": "stdout",
     "output_type": "stream",
     "text": [
      "226 µs ± 7 µs per loop (mean ± std. dev. of 7 runs, 1,000 loops each)\n"
     ]
    }
   ],
   "source": [
    "%%timeit\n",
    "\n",
    "dist_x , id_x = index.search(query,5)"
   ]
  },
  {
   "cell_type": "markdown",
   "id": "1de13009",
   "metadata": {},
   "source": [
    "- Comments: \n",
    "    1. The results are fair good \n",
    "    2. Speed is OK \n",
    "    3. Memory is OK"
   ]
  },
  {
   "cell_type": "markdown",
   "id": "dc457e90",
   "metadata": {},
   "source": [
    "## Trial 2 : Using hnsw as a quantizer with IVFPQ"
   ]
  },
  {
   "cell_type": "code",
   "execution_count": 33,
   "id": "22c95136",
   "metadata": {},
   "outputs": [],
   "source": [
    "M = [22 ,25, 30]\n",
    "nlists = [1024 , 2048 , 4096]\n",
    "m = [14,35]"
   ]
  },
  {
   "cell_type": "code",
   "execution_count": 34,
   "id": "bc07b1f2",
   "metadata": {},
   "outputs": [
    {
     "name": "stdout",
     "output_type": "stream",
     "text": [
      "M =  22 nlists =  1024 D =  [[5.84519   5.9200983 5.978896  6.06269   6.270578 ]] I =  [[34003 89273 47350 46526 95192]]\n",
      "M =  22 nlists =  1024 D =  [[6.0940623 6.4300823 6.516925  6.60669   6.6402855]] I =  [[89273 95806 76497 53097 47350]]\n",
      "M =  22 nlists =  2048 D =  [[5.9816723 6.003456  6.3272185 6.3451176 6.3617845]] I =  [[56748 52027 34695 70829 53097]]\n",
      "M =  22 nlists =  2048 D =  [[6.0062895 6.3869057 6.6166353 6.6439734 6.9253607]] I =  [[70829 52027 92082 53097 61812]]\n",
      "M =  22 nlists =  4096 D =  [[5.619247  6.14412   6.1954055 6.404251  6.718397 ]] I =  [[67883 68130 52027 10574 74978]]\n",
      "M =  22 nlists =  4096 D =  [[6.4599113 6.56174   6.596447  6.605397  6.707086 ]] I =  [[67883 92082 10574 91589 52027]]\n",
      "M =  25 nlists =  1024 D =  [[5.212241 5.470519 5.486867 5.599713 5.640121]] I =  [[52027 69332 67883 20036 21470]]\n",
      "M =  25 nlists =  1024 D =  [[6.1882477 6.3203797 6.3327575 6.3700933 6.4284353]] I =  [[52689 52027 67883 61641 95806]]\n",
      "M =  25 nlists =  2048 D =  [[5.415288  5.7928247 6.2472134 6.3210864 6.3957343]] I =  [[70829 67825 11417 67974 80349]]\n",
      "M =  25 nlists =  2048 D =  [[6.0289392 6.076991  6.553244  6.9681845 7.0229673]] I =  [[70829 67825 76497 34063 84941]]\n",
      "M =  25 nlists =  4096 D =  [[6.2902374 6.539017  6.860356  6.954852  6.980207 ]] I =  [[36901 79500 77893 64366  9737]]\n",
      "M =  25 nlists =  4096 D =  [[6.736544  7.0323534 7.069875  7.2786465 7.399804 ]] I =  [[77893 98418 64366 50476 79500]]\n",
      "M =  30 nlists =  1024 D =  [[5.1769805 5.905428  5.9584823 5.9674873 6.019268 ]] I =  [[67825 67883 67090   333 10574]]\n",
      "M =  30 nlists =  1024 D =  [[6.0421214 6.3071833 6.3915157 6.506303  6.6232543]] I =  [[67825 52027 95806 69332 67883]]\n",
      "M =  30 nlists =  2048 D =  [[5.4246635 5.478544  5.797615  5.9084754 5.9399424]] I =  [[91589 95806 67702 77893 99141]]\n",
      "M =  30 nlists =  2048 D =  [[6.23814   6.35287   6.4836955 6.6623654 6.669672 ]] I =  [[99141 95806 92082 91589 77893]]\n",
      "M =  30 nlists =  4096 D =  [[7.09348   7.26429   7.304537  7.393667  7.3975782]] I =  [[53437 65311 88623 10821 47992]]\n",
      "M =  30 nlists =  4096 D =  [[6.997346  7.3106394 7.32189   7.415212  7.494969 ]] I =  [[69743 68130 69000 25545 69124]]\n"
     ]
    }
   ],
   "source": [
    "for i in M:\n",
    "    quantizer = faiss.IndexHNSWFlat(data.shape[1], i)\n",
    "    for k in nlists:\n",
    "        for l in m:\n",
    "            index = faiss.IndexIVFPQ(quantizer,data.shape[1],k,l,8)\n",
    "            index.train(Xtrain)\n",
    "            index.add(data)\n",
    "            index.nprobe = 10\n",
    "            D, I = index.search(query, 5)\n",
    "            print(\"M = \",i , \"nlists = \" , k,\"D = \",D,\"I = \",I)"
   ]
  },
  {
   "cell_type": "code",
   "execution_count": 43,
   "id": "a100ed6b",
   "metadata": {},
   "outputs": [
    {
     "name": "stdout",
     "output_type": "stream",
     "text": [
      "234 µs ± 5.75 µs per loop (mean ± std. dev. of 7 runs, 1,000 loops each)\n"
     ]
    }
   ],
   "source": [
    "%%timeit \n",
    "\n",
    "dists , ids = index.search(query,10)"
   ]
  },
  {
   "cell_type": "markdown",
   "id": "a7d384c1",
   "metadata": {},
   "source": [
    "- Comments\n",
    "    1. The results are Not good at all  \n",
    "    2. Speed is slow \n",
    "    3. Memory is huge"
   ]
  },
  {
   "cell_type": "markdown",
   "id": "0b451313",
   "metadata": {},
   "source": [
    "## PQ"
   ]
  },
  {
   "cell_type": "code",
   "execution_count": 35,
   "id": "947a611c",
   "metadata": {},
   "outputs": [],
   "source": [
    "import nanopq"
   ]
  },
  {
   "cell_type": "code",
   "execution_count": 40,
   "id": "78acfc34",
   "metadata": {},
   "outputs": [
    {
     "name": "stdout",
     "output_type": "stream",
     "text": [
      "M =  7 dists =  [10.137394 13.16754  10.689751 ... 11.191105  9.19523   8.612617]\n",
      "M =  10 dists =  [12.007293 13.475139 12.842962 ... 10.204383  8.628861  9.543551]\n",
      "M =  14 dists =  [11.440275 13.278863 12.229638 ... 10.683782  9.452681 10.140962]\n"
     ]
    }
   ],
   "source": [
    "M = [7 , 10 , 14]\n",
    "\n",
    "for i in M:\n",
    "    pq = nanopq.PQ(M=i, verbose=False)\n",
    "    pq.fit(Xtrain)\n",
    "    X_code = pq.encode(data.astype(np.float32))\n",
    "    dists = pq.dtable(query[0]).adist(X_code)\n",
    "    print(\"M = \",i,\"dists = \",dists)"
   ]
  },
  {
   "cell_type": "markdown",
   "id": "05587484",
   "metadata": {},
   "source": [
    "- Comments:\n",
    "    1. The results are Not good at all  \n",
    "    2. Speed is ok\n",
    "    3. Memory is very very good"
   ]
  },
  {
   "cell_type": "markdown",
   "id": "4ed2c2cc",
   "metadata": {},
   "source": [
    "## IVF_Flat"
   ]
  },
  {
   "cell_type": "code",
   "execution_count": 42,
   "id": "249b41dd",
   "metadata": {},
   "outputs": [
    {
     "name": "stdout",
     "output_type": "stream",
     "text": [
      "m =  7 nlists =  256 D =  [[6.290603  6.377116  6.56882   6.579968  6.8486156]] I =  [[67825 95806 10574 40420 83624]]\n",
      "m =  7 nlists =  512 D =  [[6.317532  6.443162  6.7743034 6.8572416 6.97613  ]] I =  [[52689 67883 69332 79455 69743]]\n",
      "m =  7 nlists =  1024 D =  [[6.290603  6.443162  6.4945564 6.56882   6.5782757]] I =  [[67825 67883 92082 10574 52027]]\n",
      "m =  7 nlists =  2048 D =  [[6.5554543 6.87107   6.9177866 7.2246375 7.451375 ]] I =  [[99141 14373  9198 60163 25545]]\n",
      "m =  7 nlists =  4096 D =  [[6.0848384 6.377116  6.419765  6.443162  6.5554543]] I =  [[89273 95806  6419 67883 99141]]\n",
      "m =  10 nlists =  256 D =  [[6.290603  6.377116  6.56882   6.579968  6.8486156]] I =  [[67825 95806 10574 40420 83624]]\n",
      "m =  10 nlists =  512 D =  [[6.317532  6.443162  6.7743034 6.8572416 6.97613  ]] I =  [[52689 67883 69332 79455 69743]]\n",
      "m =  10 nlists =  1024 D =  [[6.290603  6.443162  6.4945564 6.56882   6.5782757]] I =  [[67825 67883 92082 10574 52027]]\n",
      "m =  10 nlists =  2048 D =  [[6.5554543 6.87107   6.9177866 7.2246375 7.451375 ]] I =  [[99141 14373  9198 60163 25545]]\n",
      "m =  10 nlists =  4096 D =  [[6.0848384 6.377116  6.419765  6.443162  6.5554543]] I =  [[89273 95806  6419 67883 99141]]\n",
      "m =  14 nlists =  256 D =  [[6.290603  6.377116  6.56882   6.579968  6.8486156]] I =  [[67825 95806 10574 40420 83624]]\n",
      "m =  14 nlists =  512 D =  [[6.317532  6.443162  6.7743034 6.8572416 6.97613  ]] I =  [[52689 67883 69332 79455 69743]]\n",
      "m =  14 nlists =  1024 D =  [[6.290603  6.443162  6.4945564 6.56882   6.5782757]] I =  [[67825 67883 92082 10574 52027]]\n",
      "m =  14 nlists =  2048 D =  [[6.5554543 6.87107   6.9177866 7.2246375 7.451375 ]] I =  [[99141 14373  9198 60163 25545]]\n",
      "m =  14 nlists =  4096 D =  [[6.0848384 6.377116  6.419765  6.443162  6.5554543]] I =  [[89273 95806  6419 67883 99141]]\n",
      "m =  35 nlists =  256 D =  [[6.290603  6.377116  6.56882   6.579968  6.8486156]] I =  [[67825 95806 10574 40420 83624]]\n",
      "m =  35 nlists =  512 D =  [[6.317532  6.443162  6.7743034 6.8572416 6.97613  ]] I =  [[52689 67883 69332 79455 69743]]\n",
      "m =  35 nlists =  1024 D =  [[6.290603  6.443162  6.4945564 6.56882   6.5782757]] I =  [[67825 67883 92082 10574 52027]]\n",
      "m =  35 nlists =  2048 D =  [[6.5554543 6.87107   6.9177866 7.2246375 7.451375 ]] I =  [[99141 14373  9198 60163 25545]]\n",
      "m =  35 nlists =  4096 D =  [[6.0848384 6.377116  6.419765  6.443162  6.5554543]] I =  [[89273 95806  6419 67883 99141]]\n",
      "m =  70 nlists =  256 D =  [[6.290603  6.377116  6.56882   6.579968  6.8486156]] I =  [[67825 95806 10574 40420 83624]]\n",
      "m =  70 nlists =  512 D =  [[6.317532  6.443162  6.7743034 6.8572416 6.97613  ]] I =  [[52689 67883 69332 79455 69743]]\n",
      "m =  70 nlists =  1024 D =  [[6.290603  6.443162  6.4945564 6.56882   6.5782757]] I =  [[67825 67883 92082 10574 52027]]\n",
      "m =  70 nlists =  2048 D =  [[6.5554543 6.87107   6.9177866 7.2246375 7.451375 ]] I =  [[99141 14373  9198 60163 25545]]\n",
      "m =  70 nlists =  4096 D =  [[6.0848384 6.377116  6.419765  6.443162  6.5554543]] I =  [[89273 95806  6419 67883 99141]]\n"
     ]
    }
   ],
   "source": [
    "# Generating random data (1M vectors with dimension 70)\n",
    "quantizer = faiss.IndexFlatL2(data.shape[1])\n",
    "m = [7, 10 , 14, 35 ,70]\n",
    "nlists = [256 , 512 , 1024 , 2048 , 4096]\n",
    "for i in m:\n",
    "    for j in nlists:\n",
    "        index = faiss.IndexIVFFlat(quantizer,data.shape[1],j,faiss.METRIC_L2)\n",
    "        index.train(Xtrain)\n",
    "        index.add(data)\n",
    "        index.nprobe = 5\n",
    "        D, I = index.search(query, 5)\n",
    "        print(\"m = \",i,\"nlists = \" ,j , \"D = \",D,\"I = \",I)\n",
    "        # index.reset()\n",
    "# index = faiss.IndexIVFPQ(quantizer,data.shape[1],256,7,8) #=> Quantizer , Dimension , clusters , reduceDimension , nbits\n"
   ]
  },
  {
   "cell_type": "markdown",
   "id": "bb142f57",
   "metadata": {},
   "source": [
    "- Comments:\n",
    "    1. The results are not good (moderate)  --> can be tuned for better results\n",
    "    2. Speed is ok\n",
    "    3. Memory is ok\n",
    "    4. Ease of construction "
   ]
  },
  {
   "cell_type": "markdown",
   "id": "009da7c7",
   "metadata": {},
   "source": [
    "## LSH"
   ]
  },
  {
   "cell_type": "code",
   "execution_count": 45,
   "id": "a29c746f",
   "metadata": {},
   "outputs": [
    {
     "name": "stdout",
     "output_type": "stream",
     "text": [
      "D =  [[6. 6. 6. 7. 7.]] I =  [[56430 64727 77647  1976  2172]]\n"
     ]
    }
   ],
   "source": [
    "#let's try LSH from faiss\n",
    "index = faiss.IndexLSH(data.shape[1], 70)\n",
    "index.train(Xtrain)\n",
    "index.add(data)\n",
    "index.nprobe = 5\n",
    "D, I = index.search(query, 5)\n",
    "print(\"D = \",D,\"I = \",I)"
   ]
  },
  {
   "cell_type": "code",
   "execution_count": null,
   "id": "3e682ad8",
   "metadata": {},
   "outputs": [],
   "source": []
  }
 ],
 "metadata": {
  "kernelspec": {
   "display_name": "pyfaiss",
   "language": "python",
   "name": "pyfaiss"
  },
  "language_info": {
   "codemirror_mode": {
    "name": "ipython",
    "version": 3
   },
   "file_extension": ".py",
   "mimetype": "text/x-python",
   "name": "python",
   "nbconvert_exporter": "python",
   "pygments_lexer": "ipython3",
   "version": "3.10.13"
  }
 },
 "nbformat": 4,
 "nbformat_minor": 5
}
