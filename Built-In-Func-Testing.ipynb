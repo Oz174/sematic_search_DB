{
 "cells": [
  {
   "cell_type": "code",
   "execution_count": 1,
   "id": "515508f1",
   "metadata": {},
   "outputs": [],
   "source": [
    "import faiss"
   ]
  },
  {
   "cell_type": "code",
   "execution_count": 2,
   "id": "2c3317cc",
   "metadata": {},
   "outputs": [],
   "source": [
    "import numpy as np "
   ]
  },
  {
   "cell_type": "code",
   "execution_count": 3,
   "id": "5a350192",
   "metadata": {},
   "outputs": [],
   "source": [
    "Xt = np.loadtxt('saved_db_1m.csv', delimiter = ',')"
   ]
  },
  {
   "cell_type": "code",
   "execution_count": 4,
   "id": "18a56da3",
   "metadata": {},
   "outputs": [
    {
     "data": {
      "text/plain": [
       "array([[0.8922525 , 0.2800759 , 0.26163924, 0.46114665, 0.894992  ,\n",
       "        0.12171966, 0.24928057, 0.52260834, 0.24156952, 0.40916836,\n",
       "        0.34428424, 0.07163954, 0.03442818, 0.09896666, 0.66252285,\n",
       "        0.9862883 , 0.92981035, 0.69406784, 0.92269063, 0.44868845,\n",
       "        0.55067986, 0.6401768 , 0.40450466, 0.2704888 , 0.7013119 ,\n",
       "        0.30187392, 0.5553066 , 0.07334203, 0.2125904 , 0.05258554,\n",
       "        0.61584634, 0.8074751 , 0.8789867 , 0.8133053 , 0.92158616,\n",
       "        0.00497156, 0.7687784 , 0.3300553 , 0.6475257 , 0.08908683,\n",
       "        0.21998852, 0.4679469 , 0.2687173 , 0.61768943, 0.90623456,\n",
       "        0.55104804, 0.9345592 , 0.13406181, 0.4424578 , 0.7024428 ,\n",
       "        0.15089315, 0.6129694 , 0.40907687, 0.46742535, 0.5311658 ,\n",
       "        0.29712713, 0.7017058 , 0.91839385, 0.13668495, 0.08343965,\n",
       "        0.2610187 , 0.14476323, 0.39879185, 0.37857074, 0.23424745,\n",
       "        0.25922382, 0.30125505, 0.6162096 , 0.8325671 , 0.6945543 ]])"
      ]
     },
     "execution_count": 4,
     "metadata": {},
     "output_type": "execute_result"
    }
   ],
   "source": [
    "data = Xt[:,1:]\n",
    "data[:1,:]"
   ]
  },
  {
   "cell_type": "markdown",
   "id": "549d571e",
   "metadata": {},
   "source": [
    "## Trial 1 : Using IndexFlatL2 as coarse quantizer and IVFPQ "
   ]
  },
  {
   "cell_type": "code",
   "execution_count": 5,
   "id": "f283f78f",
   "metadata": {},
   "outputs": [],
   "source": [
    "quantizer = faiss.IndexFlatL2(70)\n"
   ]
  },
  {
   "cell_type": "code",
   "execution_count": 6,
   "id": "40326bc2",
   "metadata": {},
   "outputs": [],
   "source": [
    "index = faiss.IndexIVFPQ(quantizer,70,150,10,8) #=> Quantizer , Dimension , clusters , reduceDimension , nbits"
   ]
  },
  {
   "cell_type": "code",
   "execution_count": 7,
   "id": "349ae2c7",
   "metadata": {},
   "outputs": [],
   "source": [
    "Xtrain = np.random.rand(10000, 70).astype('float32')"
   ]
  },
  {
   "cell_type": "code",
   "execution_count": 8,
   "id": "fbbf699b",
   "metadata": {},
   "outputs": [],
   "source": [
    "index.train(Xtrain)"
   ]
  },
  {
   "cell_type": "code",
   "execution_count": 9,
   "id": "5e2a4b00",
   "metadata": {},
   "outputs": [],
   "source": [
    "index.add(data)"
   ]
  },
  {
   "cell_type": "code",
   "execution_count": 10,
   "id": "279c657a",
   "metadata": {},
   "outputs": [
    {
     "data": {
      "text/plain": [
       "array([[0.95713852, 0.1255858 , 0.51939283, 0.88571366, 0.02494473,\n",
       "        0.60542467, 0.5937567 , 0.47759632, 0.88098268, 0.20459794,\n",
       "        0.60516436, 0.82993367, 0.09323417, 0.03752753, 0.51255918,\n",
       "        0.31370498, 0.33502925, 0.27021796, 0.68573947, 0.77525896,\n",
       "        0.24537603, 0.18115012, 0.84654879, 0.17967183, 0.77487567,\n",
       "        0.63213973, 0.79996122, 0.23676305, 0.9951289 , 0.53076527,\n",
       "        0.98850615, 0.99930816, 0.95671029, 0.45048102, 0.71455581,\n",
       "        0.27403173, 0.94583074, 0.75587833, 0.28651601, 0.86268937,\n",
       "        0.55703547, 0.33321402, 0.44074703, 0.34542888, 0.6041236 ,\n",
       "        0.78121488, 0.07596347, 0.18537938, 0.39350902, 0.9095119 ,\n",
       "        0.38322556, 0.33431077, 0.98035071, 0.00379226, 0.33685277,\n",
       "        0.38391528, 0.54045469, 0.32790782, 0.29777862, 0.69086592,\n",
       "        0.38967699, 0.635463  , 0.7152153 , 0.19898011, 0.46220471,\n",
       "        0.6654462 , 0.77986992, 0.56833693, 0.72527947, 0.08238839]])"
      ]
     },
     "execution_count": 10,
     "metadata": {},
     "output_type": "execute_result"
    }
   ],
   "source": [
    "Q = np.random.random((1,70))\n",
    "Q"
   ]
  },
  {
   "cell_type": "code",
   "execution_count": 11,
   "id": "b7da4763",
   "metadata": {},
   "outputs": [
    {
     "name": "stdout",
     "output_type": "stream",
     "text": [
      "CPU times: total: 0 ns\n",
      "Wall time: 1.01 ms\n"
     ]
    },
    {
     "data": {
      "text/plain": [
       "array([[5.807326 , 6.5578537, 6.6312914, 6.696563 , 6.6993923]],\n",
       "      dtype=float32)"
      ]
     },
     "execution_count": 11,
     "metadata": {},
     "output_type": "execute_result"
    }
   ],
   "source": [
    "%%time\n",
    "\n",
    "dist_x , id_x = index.search(Q,5)\n",
    "\n",
    "dist_x"
   ]
  },
  {
   "cell_type": "markdown",
   "id": "dc457e90",
   "metadata": {},
   "source": [
    "## Trial 2 : Using hnsw as a quantizer with IVFPQ"
   ]
  },
  {
   "cell_type": "code",
   "execution_count": 12,
   "id": "bc07b1f2",
   "metadata": {},
   "outputs": [],
   "source": [
    "quantizer_hnsw = faiss.IndexHNSWFlat(70,10)\n",
    "index_hnswivfpq = faiss.IndexIVFPQ(quantizer_hnsw, 70, 100, 10, 8)"
   ]
  },
  {
   "cell_type": "code",
   "execution_count": 13,
   "id": "1814fad6",
   "metadata": {},
   "outputs": [
    {
     "name": "stdout",
     "output_type": "stream",
     "text": [
      "CPU times: total: 17.5 s\n",
      "Wall time: 2.83 s\n"
     ]
    }
   ],
   "source": [
    "%%time\n",
    "index_hnswivfpq.train(Xtrain)\n",
    "index_hnswivfpq.add(data)"
   ]
  },
  {
   "cell_type": "code",
   "execution_count": 14,
   "id": "a100ed6b",
   "metadata": {},
   "outputs": [
    {
     "name": "stdout",
     "output_type": "stream",
     "text": [
      "CPU times: total: 15.6 ms\n",
      "Wall time: 509 µs\n"
     ]
    },
    {
     "data": {
      "text/plain": [
       "array([[6.230936 , 6.2422013, 6.3266373, 6.3320074, 6.393177 ]],\n",
       "      dtype=float32)"
      ]
     },
     "execution_count": 14,
     "metadata": {},
     "output_type": "execute_result"
    }
   ],
   "source": [
    "%time dists , ids = index_hnswivfpq.search(Q,5)\n",
    "\n",
    "dists"
   ]
  },
  {
   "cell_type": "code",
   "execution_count": 15,
   "id": "7f56f8ba",
   "metadata": {},
   "outputs": [
    {
     "data": {
      "text/plain": [
       "array([[0.95713852, 0.1255858 , 0.51939283, 0.88571366, 0.02494473,\n",
       "        0.60542467, 0.5937567 , 0.47759632, 0.88098268, 0.20459794,\n",
       "        0.60516436, 0.82993367, 0.09323417, 0.03752753, 0.51255918,\n",
       "        0.31370498, 0.33502925, 0.27021796, 0.68573947, 0.77525896,\n",
       "        0.24537603, 0.18115012, 0.84654879, 0.17967183, 0.77487567,\n",
       "        0.63213973, 0.79996122, 0.23676305, 0.9951289 , 0.53076527,\n",
       "        0.98850615, 0.99930816, 0.95671029, 0.45048102, 0.71455581,\n",
       "        0.27403173, 0.94583074, 0.75587833, 0.28651601, 0.86268937,\n",
       "        0.55703547, 0.33321402, 0.44074703, 0.34542888, 0.6041236 ,\n",
       "        0.78121488, 0.07596347, 0.18537938, 0.39350902, 0.9095119 ,\n",
       "        0.38322556, 0.33431077, 0.98035071, 0.00379226, 0.33685277,\n",
       "        0.38391528, 0.54045469, 0.32790782, 0.29777862, 0.69086592,\n",
       "        0.38967699, 0.635463  , 0.7152153 , 0.19898011, 0.46220471,\n",
       "        0.6654462 , 0.77986992, 0.56833693, 0.72527947, 0.08238839]])"
      ]
     },
     "execution_count": 15,
     "metadata": {},
     "output_type": "execute_result"
    }
   ],
   "source": [
    "Q"
   ]
  },
  {
   "cell_type": "markdown",
   "id": "c2b59d83",
   "metadata": {},
   "source": [
    "## Statistics and Comparison between cosine similarity of Q and the vectors in data  "
   ]
  },
  {
   "cell_type": "markdown",
   "id": "4f96730e",
   "metadata": {},
   "source": [
    "### Brute-Force cos-similarity "
   ]
  },
  {
   "cell_type": "code",
   "execution_count": 16,
   "id": "3837be9a",
   "metadata": {
    "scrolled": true
   },
   "outputs": [
    {
     "name": "stdout",
     "output_type": "stream",
     "text": [
      "[0.85150352] 52\n",
      "[0.85503787] 415\n",
      "[0.8672097] 624\n",
      "[0.87106988] 1535\n",
      "[0.8567513] 1906\n",
      "[0.85045508] 3197\n",
      "[0.85154939] 3798\n",
      "[0.85104825] 4114\n",
      "[0.85236704] 4233\n",
      "[0.85266526] 4435\n",
      "[0.86523382] 4563\n",
      "[0.85438514] 4618\n",
      "[0.85527604] 5076\n",
      "[0.8786697] 6400\n",
      "[0.85963828] 6877\n",
      "[0.85496844] 8216\n",
      "[0.85690809] 8493\n",
      "[0.87311338] 8790\n",
      "[0.86088666] 9344\n",
      "[0.85569788] 10103\n",
      "[0.85325722] 10784\n",
      "[0.87670609] 10956\n",
      "[0.85319847] 11440\n",
      "[0.85171471] 11461\n",
      "[0.86865618] 11674\n",
      "[0.85111135] 12333\n",
      "[0.85929665] 12447\n",
      "[0.86174366] 13055\n",
      "[0.85500407] 14540\n",
      "[0.85817766] 14668\n",
      "[0.85091413] 15035\n",
      "[0.86700805] 15195\n",
      "[0.86087364] 15451\n",
      "[0.85105519] 15865\n",
      "[0.86009587] 15910\n",
      "[0.86244308] 16431\n",
      "[0.85877755] 16560\n",
      "[0.85122545] 17413\n",
      "[0.85996312] 17982\n",
      "[0.85466983] 18523\n",
      "[0.85766158] 18870\n",
      "[0.85527524] 19054\n",
      "[0.85518275] 19926\n",
      "[0.85936165] 20299\n",
      "[0.85226298] 21782\n",
      "[0.86150949] 21802\n",
      "[0.86655627] 21845\n",
      "[0.85497382] 23358\n",
      "[0.86847179] 24896\n",
      "[0.85249693] 25775\n",
      "[0.85550188] 26848\n",
      "[0.85360184] 27208\n",
      "[0.85020815] 29168\n",
      "[0.88458609] 30652\n",
      "[0.85135029] 31162\n",
      "[0.85417678] 31532\n",
      "[0.881418] 31742\n",
      "[0.85375961] 31900\n",
      "[0.85131594] 33218\n",
      "[0.85992661] 33267\n",
      "[0.85689899] 33684\n",
      "[0.85718967] 33887\n",
      "[0.86412298] 33968\n",
      "[0.85157596] 34789\n",
      "[0.85633653] 35063\n",
      "[0.86013748] 35384\n",
      "[0.85224472] 37440\n",
      "[0.85711179] 38488\n",
      "[0.85141407] 38962\n",
      "[0.85957141] 39822\n",
      "[0.8537365] 42418\n",
      "[0.86681735] 43119\n",
      "[0.85769337] 43134\n",
      "[0.86788406] 43343\n",
      "[0.85830921] 43430\n",
      "[0.8529319] 43644\n",
      "[0.8534924] 43867\n",
      "[0.85995325] 43933\n",
      "[0.86335121] 44191\n",
      "[0.85873658] 44244\n",
      "[0.85112967] 44929\n",
      "[0.85727686] 45070\n",
      "[0.85564567] 45653\n",
      "[0.85415989] 46062\n",
      "[0.8677358] 46189\n",
      "[0.85448919] 46458\n",
      "[0.85710534] 47335\n",
      "[0.85237383] 47893\n",
      "[0.85122123] 49120\n",
      "[0.85087315] 49213\n",
      "[0.86880219] 49237\n",
      "[0.85889818] 50519\n",
      "[0.85406322] 51286\n",
      "[0.85201878] 51445\n",
      "[0.85718359] 51457\n",
      "[0.85425512] 51904\n",
      "[0.85929957] 52548\n",
      "[0.8550112] 53217\n",
      "[0.85083659] 53715\n",
      "[0.85934043] 54019\n",
      "[0.8510728] 55339\n",
      "[0.86161505] 55637\n",
      "[0.85792255] 55987\n",
      "[0.85459036] 56594\n",
      "[0.85361898] 56875\n",
      "[0.85048273] 57279\n",
      "[0.85435755] 57479\n",
      "[0.8551156] 57606\n",
      "[0.86060467] 57980\n",
      "[0.86880675] 58838\n",
      "[0.85719649] 59358\n",
      "[0.86932] 59393\n",
      "[0.86134817] 59408\n",
      "[0.85102629] 59728\n",
      "[0.86495933] 59909\n",
      "[0.85051037] 60342\n",
      "[0.85051336] 60453\n",
      "[0.8609479] 60652\n",
      "[0.86189596] 60960\n",
      "[0.8567533] 61118\n",
      "[0.85275782] 61865\n",
      "[0.85067325] 62427\n",
      "[0.86802864] 62867\n",
      "[0.85542976] 63308\n",
      "[0.8510719] 63315\n",
      "[0.8508266] 63834\n",
      "[0.86346604] 63946\n",
      "[0.86385107] 64063\n",
      "[0.86668742] 64130\n",
      "[0.85835889] 64895\n",
      "[0.85552755] 65985\n",
      "[0.85476621] 67163\n",
      "[0.85494545] 67213\n",
      "[0.85469941] 68151\n",
      "[0.85180437] 68649\n",
      "[0.85029304] 69092\n",
      "[0.85209781] 69547\n",
      "[0.86013669] 70320\n",
      "[0.86364166] 70377\n",
      "[0.85051246] 71318\n",
      "[0.85267741] 71341\n",
      "[0.85432151] 71600\n",
      "[0.85357535] 72719\n",
      "[0.85768375] 73723\n",
      "[0.86146198] 75248\n",
      "[0.85464834] 75790\n",
      "[0.85277179] 75865\n",
      "[0.86032591] 77096\n",
      "[0.85705401] 77296\n",
      "[0.86441133] 78008\n",
      "[0.85617045] 78721\n",
      "[0.85516113] 78877\n",
      "[0.8597099] 79125\n",
      "[0.85124863] 79301\n",
      "[0.85126538] 79308\n",
      "[0.85265434] 79631\n",
      "[0.8517408] 80293\n",
      "[0.86853004] 80403\n",
      "[0.86207157] 80724\n",
      "[0.85042716] 81157\n",
      "[0.87137475] 81190\n",
      "[0.85530827] 81240\n",
      "[0.85463018] 82024\n",
      "[0.85037425] 82255\n",
      "[0.85415762] 82778\n",
      "[0.85305902] 83270\n",
      "[0.85994816] 83663\n",
      "[0.86104935] 83756\n",
      "[0.85027675] 84592\n",
      "[0.86422692] 84946\n",
      "[0.86806602] 85247\n",
      "[0.8600456] 85295\n",
      "[0.85746462] 85571\n",
      "[0.85188447] 85914\n",
      "[0.8687639] 86821\n",
      "[0.85039888] 86830\n",
      "[0.85884107] 87088\n",
      "[0.85262318] 87277\n",
      "[0.8534252] 87999\n",
      "[0.85111462] 88267\n"
     ]
    }
   ],
   "source": [
    "b = Q[0]\n",
    "a3la_cos_sim = []\n",
    "for idx in range(90000):\n",
    "    a = data[idx,:].reshape(1,-1)\n",
    "    xos = np.dot(a, b)/(np.linalg.norm(a)*(np.linalg.norm(b)))\n",
    "    if xos > 0.85:\n",
    "        a3la_cos_sim.append(xos)\n",
    "        print(xos, idx)"
   ]
  },
  {
   "cell_type": "code",
   "execution_count": 17,
   "id": "76ac612e",
   "metadata": {},
   "outputs": [
    {
     "data": {
      "text/plain": [
       "0.884586086596255"
      ]
     },
     "execution_count": 17,
     "metadata": {},
     "output_type": "execute_result"
    }
   ],
   "source": [
    "np.max(a3la_cos_sim)"
   ]
  },
  {
   "cell_type": "markdown",
   "id": "9865808e",
   "metadata": {},
   "source": [
    "## Ids extracted from faiss hnswivfpq as nearest distance"
   ]
  },
  {
   "cell_type": "code",
   "execution_count": 18,
   "id": "9d914afd",
   "metadata": {},
   "outputs": [
    {
     "name": "stdout",
     "output_type": "stream",
     "text": [
      "[[43867 11725 21782 79301 29006]]\n",
      "[0.8534924]\n",
      "[0.84021952]\n",
      "[0.85226298]\n",
      "[0.85124863]\n",
      "[0.84639703]\n"
     ]
    }
   ],
   "source": [
    "print(id_x) #=> ivfpq no hnsw\n",
    "b = Q[0]\n",
    "for idx in id_x[0]:\n",
    "    a = data[idx,:].reshape(1,-1)\n",
    "    print(np.dot(a, b)/(np.linalg.norm(a)*(np.linalg.norm(b))))"
   ]
  },
  {
   "cell_type": "code",
   "execution_count": 19,
   "id": "e638dad7",
   "metadata": {},
   "outputs": [
    {
     "name": "stdout",
     "output_type": "stream",
     "text": [
      "[[ 5941 51518 42418 59393 73201]]\n",
      "[0.84689645]\n",
      "[0.84546353]\n",
      "[0.8537365]\n",
      "[0.86932]\n",
      "[0.84627526]\n"
     ]
    }
   ],
   "source": [
    "print(ids) #=> with hnsw\n",
    "\n",
    "b = Q[0]\n",
    "for idx in ids[0]:\n",
    "    a = data[idx,:].reshape(1,-1)\n",
    "    print(np.dot(a, b)/(np.linalg.norm(a)*(np.linalg.norm(b))))"
   ]
  },
  {
   "cell_type": "markdown",
   "id": "0b451313",
   "metadata": {},
   "source": [
    "## PQ"
   ]
  },
  {
   "cell_type": "code",
   "execution_count": 20,
   "id": "947a611c",
   "metadata": {},
   "outputs": [],
   "source": [
    "import nanopq"
   ]
  },
  {
   "cell_type": "code",
   "execution_count": 21,
   "id": "78acfc34",
   "metadata": {},
   "outputs": [
    {
     "name": "stdout",
     "output_type": "stream",
     "text": [
      "M: 7, Ks: 256, metric : <class 'numpy.uint8'>, code_dtype: l2\n",
      "iter: 20, seed: 123\n",
      "Training the subspace: 0 / 7\n",
      "Training the subspace: 1 / 7\n",
      "Training the subspace: 2 / 7\n",
      "Training the subspace: 3 / 7\n",
      "Training the subspace: 4 / 7\n",
      "Training the subspace: 5 / 7\n",
      "Training the subspace: 6 / 7\n",
      "Encoding the subspace: 0 / 7\n",
      "Encoding the subspace: 1 / 7\n",
      "Encoding the subspace: 2 / 7\n",
      "Encoding the subspace: 3 / 7\n",
      "Encoding the subspace: 4 / 7\n",
      "Encoding the subspace: 5 / 7\n",
      "Encoding the subspace: 6 / 7\n"
     ]
    }
   ],
   "source": [
    "N, Nt, D = 10000, 5000, 70\n",
    "# X = np.random.random((N, D)).astype(np.float32)  # 10,000 128-dim vectors to be indexed\n",
    "Xt = np.random.random((Nt, D)).astype(np.float32)  # 2,000 128-dim vectors for training\n",
    "query = np.random.random((D,)).astype(np.float32)  # a 128-dim query vector\n",
    "\n",
    "# Instantiate with M=8 sub-spaces\n",
    "pq = nanopq.PQ(M=7)\n",
    "\n",
    "# Train codewords\n",
    "pq.fit(Xt)\n",
    "\n",
    "# Encode to PQ-codes\n",
    "X_code = pq.encode(data.astype(np.float32))  # (90000, 7) with dtype=np.uint8\n",
    "\n",
    "# Results: create a distance table online, and compute Asymmetric Distance to each PQ-code \n",
    "dists = pq.dtable(query).adist(X_code)  # (90000, ) "
   ]
  },
  {
   "cell_type": "code",
   "execution_count": 22,
   "id": "05587484",
   "metadata": {},
   "outputs": [
    {
     "data": {
      "text/plain": [
       "array([ 8.768163,  9.334701, 10.043791, ...,  9.517483,  8.785688,\n",
       "       10.095693], dtype=float32)"
      ]
     },
     "execution_count": 22,
     "metadata": {},
     "output_type": "execute_result"
    }
   ],
   "source": [
    "dists"
   ]
  },
  {
   "cell_type": "markdown",
   "id": "4ed2c2cc",
   "metadata": {},
   "source": [
    "## IVF_Flat    WINNER WINNER CHICKEN DINNER"
   ]
  },
  {
   "cell_type": "code",
   "execution_count": 60,
   "id": "be60903e",
   "metadata": {},
   "outputs": [],
   "source": [
    "from memory_profiler import memory_usage\n",
    "\n",
    "\n",
    "def memory_usage_run_queries(args):\n",
    "    # This part is added to calcauate the RAM usage\n",
    "    mem_before = max(memory_usage())\n",
    "    mem = memory_usage(proc=(run_queries, args, {}), interval = 1e-3)\n",
    "    return max(mem) - mem_before\n",
    "\n",
    "\n"
   ]
  },
  {
   "cell_type": "code",
   "execution_count": 61,
   "id": "249b41dd",
   "metadata": {},
   "outputs": [],
   "source": [
    "# Generating random data (1M vectors with dimension 70)\n",
    "np.random.seed(42)\n",
    "Xt = np.random.rand(10000, 70).astype('float32')\n",
    "\n",
    "# Parameters\n",
    "d = 70  # Dimension of the vectors\n",
    "nlist = 100  # Number of clusters\n",
    "quantizer = faiss.IndexFlatL2(d)  # Flat index for clustering\n",
    "\n",
    "# Create IndexIVFFlat\n",
    "index = faiss.IndexIVFFlat(quantizer, d, nlist, faiss.METRIC_L2)\n",
    "\n",
    "index.train(Xt)\n",
    "index.add(data)\n",
    "\n",
    "# Save the index\n",
    "# faiss.write_index(index, \"index_ivf_flat.index\")\n"
   ]
  },
  {
   "cell_type": "code",
   "execution_count": 62,
   "id": "d0fc0b97",
   "metadata": {},
   "outputs": [
    {
     "data": {
      "text/plain": [
       "0.01953125"
      ]
     },
     "execution_count": 62,
     "metadata": {},
     "output_type": "execute_result"
    }
   ],
   "source": [
    "def run_queries(Q,K):\n",
    "    dists_flat , ids_flat = index.search(Q,K)\n",
    "    return dists_flat, ids_flat\n",
    "\n",
    "memory_usage_run_queries((Q,40))"
   ]
  },
  {
   "cell_type": "code",
   "execution_count": 31,
   "id": "7e86644a",
   "metadata": {},
   "outputs": [
    {
     "data": {
      "text/plain": [
       "array([[5.0295053, 5.490045 , 5.491939 , 5.6248503, 5.669506 , 5.727092 ,\n",
       "        5.7533965, 5.8510523, 5.872204 , 5.875067 ]], dtype=float32)"
      ]
     },
     "execution_count": 31,
     "metadata": {},
     "output_type": "execute_result"
    }
   ],
   "source": [
    "dists_flat # L2 distance "
   ]
  },
  {
   "cell_type": "code",
   "execution_count": 32,
   "id": "c66c5a8c",
   "metadata": {},
   "outputs": [
    {
     "name": "stdout",
     "output_type": "stream",
     "text": [
      "[0.8687639]\n",
      "[0.87137475]\n",
      "[0.85104825]\n",
      "[0.86853004]\n",
      "[0.82786012]\n",
      "[0.8567513]\n",
      "[0.85569788]\n",
      "[0.84233067]\n",
      "[0.83288655]\n",
      "[0.82407405]\n"
     ]
    }
   ],
   "source": [
    "b = Q[0] #cosine similarity\n",
    "for idx in ids_flat[0]:\n",
    "    a = data[idx,:].reshape(1,-1)\n",
    "    print(np.dot(a, b)/(np.linalg.norm(a)*(np.linalg.norm(b))))"
   ]
  },
  {
   "cell_type": "code",
   "execution_count": null,
   "id": "bb142f57",
   "metadata": {},
   "outputs": [],
   "source": []
  },
  {
   "cell_type": "markdown",
   "id": "016bdf95",
   "metadata": {},
   "source": [
    "## Index IVFPQ only"
   ]
  },
  {
   "cell_type": "code",
   "execution_count": 26,
   "id": "1bf54b2a",
   "metadata": {},
   "outputs": [],
   "source": [
    "# Generating random data (1M vectors with dimension 70)\n",
    "np.random.seed(42)\n",
    "Xt = np.random.rand(10000, 70).astype('float32')\n",
    "\n",
    "# Parameters\n",
    "d = 70  # Dimension of the vectors\n",
    "nlist = 100  # Number of clusters\n",
    "m = 7  # Number of subquantizers\n",
    "nbits = 8  # Number of bits for quantization\n",
    "\n",
    "# Create IndexIVFPQ\n",
    "index = faiss.IndexIVFPQ(faiss.IndexFlatL2(d), d, nlist, m, nbits)\n",
    "\n",
    "# Train the index\n",
    "index.train(Xt)\n",
    "index.add(data)\n",
    "\n",
    "dists_ivfpq , ids_ivfpq = index.search(Q,5)\n",
    "\n",
    "\n",
    "\n",
    "# Save the index\n",
    "#faiss.write_index(index, \"index_ivf_pq.index\")\n"
   ]
  },
  {
   "cell_type": "code",
   "execution_count": 27,
   "id": "cd6bf632",
   "metadata": {},
   "outputs": [
    {
     "data": {
      "text/plain": [
       "array([[5.0295053, 5.490045 , 5.491939 , 5.6248503, 5.669506 ]],\n",
       "      dtype=float32)"
      ]
     },
     "execution_count": 27,
     "metadata": {},
     "output_type": "execute_result"
    }
   ],
   "source": [
    "dists_ivfpq"
   ]
  },
  {
   "cell_type": "code",
   "execution_count": 28,
   "id": "8aa3a111",
   "metadata": {},
   "outputs": [
    {
     "name": "stdout",
     "output_type": "stream",
     "text": [
      "[0.8687639]\n",
      "[0.87137475]\n",
      "[0.85104825]\n",
      "[0.86853004]\n",
      "[0.82786012]\n"
     ]
    }
   ],
   "source": [
    "b = Q[0]\n",
    "for idx in ids_ivfpq[0]:\n",
    "    a = data[idx,:].reshape(1,-1)\n",
    "    print(np.dot(a, b)/(np.linalg.norm(a)*(np.linalg.norm(b))))"
   ]
  },
  {
   "cell_type": "markdown",
   "id": "009da7c7",
   "metadata": {},
   "source": [
    "## IVF only "
   ]
  },
  {
   "cell_type": "code",
   "execution_count": 29,
   "id": "a29c746f",
   "metadata": {},
   "outputs": [
    {
     "ename": "AttributeError",
     "evalue": "No constructor defined - class is abstract",
     "output_type": "error",
     "traceback": [
      "\u001b[1;31m---------------------------------------------------------------------------\u001b[0m",
      "\u001b[1;31mAttributeError\u001b[0m                            Traceback (most recent call last)",
      "\u001b[1;32m~\\AppData\\Local\\Temp\\ipykernel_1444\\2355419723.py\u001b[0m in \u001b[0;36m?\u001b[1;34m()\u001b[0m\n\u001b[0;32m      7\u001b[0m \u001b[0mnlist\u001b[0m \u001b[1;33m=\u001b[0m \u001b[1;36m100\u001b[0m  \u001b[1;31m# Number of clusters\u001b[0m\u001b[1;33m\u001b[0m\u001b[1;33m\u001b[0m\u001b[0m\n\u001b[0;32m      8\u001b[0m \u001b[0mquantizer\u001b[0m \u001b[1;33m=\u001b[0m \u001b[0mfaiss\u001b[0m\u001b[1;33m.\u001b[0m\u001b[0mIndexFlatL2\u001b[0m\u001b[1;33m(\u001b[0m\u001b[0md\u001b[0m\u001b[1;33m)\u001b[0m  \u001b[1;31m# Flat index for clustering\u001b[0m\u001b[1;33m\u001b[0m\u001b[1;33m\u001b[0m\u001b[0m\n\u001b[0;32m      9\u001b[0m \u001b[1;33m\u001b[0m\u001b[0m\n\u001b[0;32m     10\u001b[0m \u001b[1;31m# Create IndexIVF\u001b[0m\u001b[1;33m\u001b[0m\u001b[1;33m\u001b[0m\u001b[0m\n\u001b[1;32m---> 11\u001b[1;33m \u001b[0mindex\u001b[0m \u001b[1;33m=\u001b[0m \u001b[0mfaiss\u001b[0m\u001b[1;33m.\u001b[0m\u001b[0mIndexIVF\u001b[0m\u001b[1;33m(\u001b[0m\u001b[0mquantizer\u001b[0m\u001b[1;33m,\u001b[0m \u001b[0md\u001b[0m\u001b[1;33m,\u001b[0m \u001b[0mnlist\u001b[0m\u001b[1;33m,\u001b[0m \u001b[0mfaiss\u001b[0m\u001b[1;33m.\u001b[0m\u001b[0mMETRIC_L2\u001b[0m\u001b[1;33m)\u001b[0m\u001b[1;33m\u001b[0m\u001b[1;33m\u001b[0m\u001b[0m\n\u001b[0m\u001b[0;32m     12\u001b[0m \u001b[1;33m\u001b[0m\u001b[0m\n\u001b[0;32m     13\u001b[0m \u001b[1;31m# Train the index\u001b[0m\u001b[1;33m\u001b[0m\u001b[1;33m\u001b[0m\u001b[0m\n\u001b[0;32m     14\u001b[0m \u001b[0mindex\u001b[0m\u001b[1;33m.\u001b[0m\u001b[0mtrain\u001b[0m\u001b[1;33m(\u001b[0m\u001b[0mXt\u001b[0m\u001b[1;33m)\u001b[0m\u001b[1;33m\u001b[0m\u001b[1;33m\u001b[0m\u001b[0m\n",
      "\u001b[1;32m~\\AppData\\Local\\anaconda3\\envs\\pyfaiss\\lib\\site-packages\\faiss\\swigfaiss.py\u001b[0m in \u001b[0;36m?\u001b[1;34m(self, *args, **kwargs)\u001b[0m\n\u001b[0;32m   5315\u001b[0m     \u001b[1;32mdef\u001b[0m \u001b[0m__init__\u001b[0m\u001b[1;33m(\u001b[0m\u001b[0mself\u001b[0m\u001b[1;33m,\u001b[0m \u001b[1;33m*\u001b[0m\u001b[0margs\u001b[0m\u001b[1;33m,\u001b[0m \u001b[1;33m**\u001b[0m\u001b[0mkwargs\u001b[0m\u001b[1;33m)\u001b[0m\u001b[1;33m:\u001b[0m\u001b[1;33m\u001b[0m\u001b[1;33m\u001b[0m\u001b[0m\n\u001b[1;32m-> 5316\u001b[1;33m         \u001b[1;32mraise\u001b[0m \u001b[0mAttributeError\u001b[0m\u001b[1;33m(\u001b[0m\u001b[1;34m\"No constructor defined - class is abstract\"\u001b[0m\u001b[1;33m)\u001b[0m\u001b[1;33m\u001b[0m\u001b[1;33m\u001b[0m\u001b[0m\n\u001b[0m",
      "\u001b[1;31mAttributeError\u001b[0m: No constructor defined - class is abstract"
     ]
    }
   ],
   "source": [
    "# Generating random data (1M vectors with dimension 70)\n",
    "np.random.seed(42)\n",
    "Xt = np.random.rand(2000, 70).astype('float32')\n",
    "\n",
    "# Parameters\n",
    "d = 70  # Dimension of the vectors\n",
    "nlist = 100  # Number of clusters\n",
    "quantizer = faiss.IndexFlatL2(d)  # Flat index for clustering\n",
    "\n",
    "# Create IndexIVF\n",
    "index = faiss.IndexIVF(quantizer, d, nlist, faiss.METRIC_L2)\n",
    "\n",
    "# Train the index\n",
    "index.train(Xt)\n",
    "index.add(data)\n",
    "\n",
    "# Save the index\n",
    "# faiss.write_index(index, \"index_ivf.index\")\n"
   ]
  },
  {
   "cell_type": "code",
   "execution_count": null,
   "id": "3e682ad8",
   "metadata": {},
   "outputs": [],
   "source": []
  }
 ],
 "metadata": {
  "kernelspec": {
   "display_name": "pyfaiss",
   "language": "python",
   "name": "pyfaiss"
  },
  "language_info": {
   "codemirror_mode": {
    "name": "ipython",
    "version": 3
   },
   "file_extension": ".py",
   "mimetype": "text/x-python",
   "name": "python",
   "nbconvert_exporter": "python",
   "pygments_lexer": "ipython3",
   "version": "3.10.13"
  }
 },
 "nbformat": 4,
 "nbformat_minor": 5
}
