{
 "cells": [
  {
   "cell_type": "code",
   "execution_count": 1,
   "id": "7fd87583",
   "metadata": {},
   "outputs": [],
   "source": [
    "import faiss"
   ]
  },
  {
   "cell_type": "code",
   "execution_count": 2,
   "id": "3bd8e66c",
   "metadata": {},
   "outputs": [],
   "source": [
    "import numpy as np "
   ]
  },
  {
   "cell_type": "code",
   "execution_count": 3,
   "id": "7a40daa1",
   "metadata": {},
   "outputs": [],
   "source": [
    "Xt = np.loadtxt('saved_db_100k.csv', delimiter = ',')"
   ]
  },
  {
   "cell_type": "code",
   "execution_count": 4,
   "id": "bb0f1ff6",
   "metadata": {},
   "outputs": [
    {
     "data": {
      "text/plain": [
       "array([[0.8922525 , 0.2800759 , 0.26163924, 0.46114665, 0.894992  ,\n",
       "        0.12171966, 0.24928057, 0.52260834, 0.24156952, 0.40916836,\n",
       "        0.34428424, 0.07163954, 0.03442818, 0.09896666, 0.66252285,\n",
       "        0.9862883 , 0.92981035, 0.69406784, 0.92269063, 0.44868845,\n",
       "        0.55067986, 0.6401768 , 0.40450466, 0.2704888 , 0.7013119 ,\n",
       "        0.30187392, 0.5553066 , 0.07334203, 0.2125904 , 0.05258554,\n",
       "        0.61584634, 0.8074751 , 0.8789867 , 0.8133053 , 0.92158616,\n",
       "        0.00497156, 0.7687784 , 0.3300553 , 0.6475257 , 0.08908683,\n",
       "        0.21998852, 0.4679469 , 0.2687173 , 0.61768943, 0.90623456,\n",
       "        0.55104804, 0.9345592 , 0.13406181, 0.4424578 , 0.7024428 ,\n",
       "        0.15089315, 0.6129694 , 0.40907687, 0.46742535, 0.5311658 ,\n",
       "        0.29712713, 0.7017058 , 0.91839385, 0.13668495, 0.08343965,\n",
       "        0.2610187 , 0.14476323, 0.39879185, 0.37857074, 0.23424745,\n",
       "        0.25922382, 0.30125505, 0.6162096 , 0.8325671 , 0.6945543 ]])"
      ]
     },
     "execution_count": 4,
     "metadata": {},
     "output_type": "execute_result"
    }
   ],
   "source": [
    "data = Xt[:,1:]\n",
    "data[:1,:]"
   ]
  },
  {
   "cell_type": "markdown",
   "id": "6ad0ecfc",
   "metadata": {},
   "source": [
    "## Trial 1 : Using IndexFlatL2 as coarse quantizer and IVFPQ "
   ]
  },
  {
   "cell_type": "code",
   "execution_count": 5,
   "id": "87a3e3b8",
   "metadata": {},
   "outputs": [],
   "source": [
    "quantizer = faiss.IndexFlatL2(70)\n"
   ]
  },
  {
   "cell_type": "code",
   "execution_count": 6,
   "id": "c57129d1",
   "metadata": {},
   "outputs": [],
   "source": [
    "index = faiss.IndexIVFPQ(quantizer,70,150,10,8)"
   ]
  },
  {
   "cell_type": "code",
   "execution_count": 7,
   "id": "10decdc5",
   "metadata": {},
   "outputs": [],
   "source": [
    "index.train(data)"
   ]
  },
  {
   "cell_type": "code",
   "execution_count": 8,
   "id": "b72e4618",
   "metadata": {},
   "outputs": [],
   "source": [
    "index.add(data)"
   ]
  },
  {
   "cell_type": "code",
   "execution_count": 9,
   "id": "d5eba19e",
   "metadata": {},
   "outputs": [
    {
     "data": {
      "text/plain": [
       "array([[0.15381216, 0.66812644, 0.31372989, 0.10027266, 0.71392351,\n",
       "        0.47918202, 0.79061761, 0.2839595 , 0.73835129, 0.33685163,\n",
       "        0.26239115, 0.48564119, 0.7535227 , 0.30939925, 0.94452713,\n",
       "        0.6108156 , 0.41925184, 0.11893152, 0.64021558, 0.80980222,\n",
       "        0.64452246, 0.36290637, 0.06519896, 0.12705238, 0.63469259,\n",
       "        0.04459951, 0.69774183, 0.99725009, 0.53557804, 0.03400312,\n",
       "        0.24559993, 0.69949419, 0.1097261 , 0.49857644, 0.98639776,\n",
       "        0.80085001, 0.4395579 , 0.75673766, 0.94979435, 0.71310826,\n",
       "        0.33734678, 0.14089238, 0.4325938 , 0.82813925, 0.93850437,\n",
       "        0.60607363, 0.09464134, 0.51292329, 0.52612938, 0.37735626,\n",
       "        0.43955997, 0.6982673 , 0.5049014 , 0.66387966, 0.75477134,\n",
       "        0.0380632 , 0.99803922, 0.67927369, 0.2538282 , 0.61943442,\n",
       "        0.60171119, 0.00256892, 0.3266489 , 0.40413375, 0.37117956,\n",
       "        0.39109161, 0.29891015, 0.16337981, 0.08474247, 0.72612291]])"
      ]
     },
     "execution_count": 9,
     "metadata": {},
     "output_type": "execute_result"
    }
   ],
   "source": [
    "Q = np.random.random((1,70))\n",
    "Q"
   ]
  },
  {
   "cell_type": "code",
   "execution_count": 33,
   "id": "559ce874",
   "metadata": {},
   "outputs": [
    {
     "name": "stdout",
     "output_type": "stream",
     "text": [
      "CPU times: total: 0 ns\n",
      "Wall time: 2.13 ms\n"
     ]
    },
    {
     "data": {
      "text/plain": [
       "array([[5.275448 , 5.438001 , 5.5207634, 5.5406556, 5.6021733]],\n",
       "      dtype=float32)"
      ]
     },
     "execution_count": 33,
     "metadata": {},
     "output_type": "execute_result"
    }
   ],
   "source": [
    "%%time\n",
    "\n",
    "dist_x , id_x = index.search(Q,5)\n",
    "\n",
    "dist_x"
   ]
  },
  {
   "cell_type": "markdown",
   "id": "f1970d58",
   "metadata": {},
   "source": [
    "## Trial 2 : Using hnsw as a quantizer with IVFPQ"
   ]
  },
  {
   "cell_type": "code",
   "execution_count": 12,
   "id": "9b5d55de",
   "metadata": {},
   "outputs": [],
   "source": [
    "quantizer_hnsw = faiss.IndexHNSWFlat(70,10)\n",
    "index_hnswivfpq = faiss.IndexIVFPQ(quantizer_hnsw, 70, 250, 10, 8)"
   ]
  },
  {
   "cell_type": "code",
   "execution_count": 13,
   "id": "8ed886e1",
   "metadata": {},
   "outputs": [
    {
     "name": "stdout",
     "output_type": "stream",
     "text": [
      "CPU times: total: 1min 31s\n",
      "Wall time: 14.2 s\n"
     ]
    }
   ],
   "source": [
    "%%time\n",
    "index_hnswivfpq.train(data)\n",
    "index_hnswivfpq.add(data)\n"
   ]
  },
  {
   "cell_type": "code",
   "execution_count": 34,
   "id": "f2c317bf",
   "metadata": {},
   "outputs": [
    {
     "name": "stdout",
     "output_type": "stream",
     "text": [
      "CPU times: total: 0 ns\n",
      "Wall time: 2.52 ms\n"
     ]
    },
    {
     "data": {
      "text/plain": [
       "array([[5.8153067, 6.212041 , 6.2536707, 6.2595177, 6.3077292]],\n",
       "      dtype=float32)"
      ]
     },
     "execution_count": 34,
     "metadata": {},
     "output_type": "execute_result"
    }
   ],
   "source": [
    "%time dists , ids = index_hnswivfpq.search(Q,5)\n",
    "\n",
    "dists"
   ]
  },
  {
   "cell_type": "code",
   "execution_count": 15,
   "id": "6ab2bb54",
   "metadata": {},
   "outputs": [
    {
     "data": {
      "text/plain": [
       "array([[0.15381216, 0.66812644, 0.31372989, 0.10027266, 0.71392351,\n",
       "        0.47918202, 0.79061761, 0.2839595 , 0.73835129, 0.33685163,\n",
       "        0.26239115, 0.48564119, 0.7535227 , 0.30939925, 0.94452713,\n",
       "        0.6108156 , 0.41925184, 0.11893152, 0.64021558, 0.80980222,\n",
       "        0.64452246, 0.36290637, 0.06519896, 0.12705238, 0.63469259,\n",
       "        0.04459951, 0.69774183, 0.99725009, 0.53557804, 0.03400312,\n",
       "        0.24559993, 0.69949419, 0.1097261 , 0.49857644, 0.98639776,\n",
       "        0.80085001, 0.4395579 , 0.75673766, 0.94979435, 0.71310826,\n",
       "        0.33734678, 0.14089238, 0.4325938 , 0.82813925, 0.93850437,\n",
       "        0.60607363, 0.09464134, 0.51292329, 0.52612938, 0.37735626,\n",
       "        0.43955997, 0.6982673 , 0.5049014 , 0.66387966, 0.75477134,\n",
       "        0.0380632 , 0.99803922, 0.67927369, 0.2538282 , 0.61943442,\n",
       "        0.60171119, 0.00256892, 0.3266489 , 0.40413375, 0.37117956,\n",
       "        0.39109161, 0.29891015, 0.16337981, 0.08474247, 0.72612291]])"
      ]
     },
     "execution_count": 15,
     "metadata": {},
     "output_type": "execute_result"
    }
   ],
   "source": [
    "Q"
   ]
  },
  {
   "cell_type": "markdown",
   "id": "83b0a2a2",
   "metadata": {},
   "source": [
    "## Statistics and Comparison between cosine similarity of Q and the vectors in data  "
   ]
  },
  {
   "cell_type": "markdown",
   "id": "456087bf",
   "metadata": {},
   "source": [
    "### Brute-Force cos-similarity "
   ]
  },
  {
   "cell_type": "code",
   "execution_count": 17,
   "id": "d0165806",
   "metadata": {
    "scrolled": true
   },
   "outputs": [
    {
     "name": "stdout",
     "output_type": "stream",
     "text": [
      "[0.86028046] 484\n",
      "[0.86244727] 1659\n",
      "[0.85267913] 1955\n",
      "[0.86971393] 4356\n",
      "[0.85119305] 4770\n",
      "[0.85463432] 4905\n",
      "[0.85471078] 5188\n",
      "[0.85385309] 5309\n",
      "[0.85014784] 5962\n",
      "[0.85541129] 6536\n",
      "[0.85087479] 6664\n",
      "[0.85235284] 7053\n",
      "[0.85116026] 10620\n",
      "[0.85683533] 11214\n",
      "[0.85900165] 11350\n",
      "[0.85552451] 12732\n",
      "[0.85164718] 14396\n",
      "[0.85175008] 14642\n",
      "[0.86041158] 16535\n",
      "[0.85152621] 16925\n",
      "[0.85616794] 18265\n",
      "[0.85322591] 18364\n",
      "[0.8551893] 19170\n",
      "[0.85164361] 19608\n",
      "[0.85076729] 20653\n",
      "[0.85423353] 23430\n",
      "[0.86713062] 24887\n",
      "[0.8522858] 25797\n",
      "[0.85602785] 26134\n",
      "[0.86167693] 26279\n",
      "[0.8515973] 26284\n",
      "[0.87781698] 26502\n",
      "[0.86785472] 28026\n",
      "[0.87271722] 29302\n",
      "[0.86962894] 30724\n",
      "[0.85324389] 33748\n",
      "[0.8663655] 34764\n",
      "[0.85157781] 35142\n",
      "[0.86144645] 36637\n",
      "[0.85032632] 37601\n",
      "[0.8576791] 40497\n",
      "[0.85479443] 42388\n",
      "[0.8590084] 43262\n",
      "[0.85477863] 43648\n",
      "[0.86039308] 44251\n",
      "[0.85914642] 44265\n",
      "[0.85469947] 44998\n",
      "[0.85351996] 45570\n",
      "[0.86548895] 45616\n",
      "[0.85395126] 46069\n",
      "[0.87415312] 46474\n",
      "[0.85860464] 47045\n",
      "[0.8509762] 47241\n",
      "[0.87849865] 49174\n",
      "[0.85908234] 50042\n",
      "[0.85176403] 50217\n",
      "[0.86172268] 50254\n",
      "[0.86001823] 50941\n",
      "[0.85673929] 51622\n",
      "[0.8612814] 52139\n",
      "[0.85948094] 52638\n",
      "[0.86139436] 52794\n",
      "[0.85305595] 53765\n",
      "[0.85904935] 55807\n",
      "[0.85044776] 55971\n",
      "[0.85648572] 59012\n",
      "[0.85155206] 59713\n",
      "[0.85440177] 61145\n",
      "[0.87037617] 62065\n",
      "[0.8529182] 62147\n",
      "[0.85537844] 62716\n",
      "[0.85914947] 63041\n",
      "[0.86270196] 63446\n",
      "[0.85806109] 64695\n",
      "[0.85824168] 64744\n",
      "[0.85445732] 65599\n",
      "[0.85093015] 67243\n",
      "[0.85697196] 70842\n",
      "[0.85725956] 71282\n",
      "[0.85387348] 71417\n",
      "[0.85286316] 72090\n",
      "[0.85821058] 72681\n",
      "[0.85197688] 73410\n",
      "[0.85620832] 74247\n",
      "[0.87584201] 74632\n",
      "[0.85713008] 75880\n",
      "[0.86423003] 77880\n",
      "[0.86213379] 79006\n",
      "[0.85060556] 79157\n",
      "[0.85010479] 79853\n",
      "[0.85004082] 81595\n",
      "[0.85484843] 83640\n",
      "[0.85057248] 83856\n",
      "[0.85059327] 84059\n",
      "[0.85247086] 85210\n",
      "[0.85782121] 86083\n",
      "[0.87566758] 87864\n",
      "[0.87085713] 88022\n",
      "[0.85821398] 88093\n",
      "[0.85049351] 88444\n"
     ]
    }
   ],
   "source": [
    "b = Q[0]\n",
    "for idx in range(90000):\n",
    "    a = data[idx,:].reshape(1,-1)\n",
    "    xos = np.dot(a, b)/(np.linalg.norm(a)*(np.linalg.norm(b)))\n",
    "    if xos > 0.85:\n",
    "        print(xos, idx)"
   ]
  },
  {
   "cell_type": "markdown",
   "id": "d29c42ff",
   "metadata": {},
   "source": [
    "## Ids extracted from faiss hnswivfpq as nearest distance"
   ]
  },
  {
   "cell_type": "code",
   "execution_count": 31,
   "id": "ebf8c54c",
   "metadata": {},
   "outputs": [
    {
     "name": "stdout",
     "output_type": "stream",
     "text": [
      "[[35465 12536 59713  6664 86038]]\n",
      "[0.84667727]\n",
      "[0.84664095]\n",
      "[0.85155206]\n",
      "[0.85087479]\n",
      "[0.81983764]\n"
     ]
    }
   ],
   "source": [
    "print(id_x) #=> ivfpq no hnsw\n",
    "b = Q[0]\n",
    "for idx in id_x[0]:\n",
    "    a = data[idx,:].reshape(1,-1)\n",
    "    print(np.dot(a, b)/(np.linalg.norm(a)*(np.linalg.norm(b))))"
   ]
  },
  {
   "cell_type": "code",
   "execution_count": 32,
   "id": "d74a09d5",
   "metadata": {},
   "outputs": [
    {
     "name": "stdout",
     "output_type": "stream",
     "text": [
      "[[34790 29302 63041 25871 79853]]\n",
      "[0.83758056]\n",
      "[0.87271722]\n",
      "[0.85914947]\n",
      "[0.83687283]\n",
      "[0.85010479]\n"
     ]
    }
   ],
   "source": [
    "print(ids) #=> with hnsw\n",
    "\n",
    "b = Q[0]\n",
    "for idx in ids[0]:\n",
    "    a = data[idx,:].reshape(1,-1)\n",
    "    print(np.dot(a, b)/(np.linalg.norm(a)*(np.linalg.norm(b))))"
   ]
  },
  {
   "cell_type": "markdown",
   "id": "3dcb7bb4",
   "metadata": {},
   "source": [
    "## PQ"
   ]
  },
  {
   "cell_type": "code",
   "execution_count": 20,
   "id": "8c64260e",
   "metadata": {},
   "outputs": [],
   "source": [
    "import nanopq"
   ]
  },
  {
   "cell_type": "code",
   "execution_count": 21,
   "id": "eb6b7cb3",
   "metadata": {},
   "outputs": [
    {
     "name": "stdout",
     "output_type": "stream",
     "text": [
      "M: 7, Ks: 256, metric : <class 'numpy.uint8'>, code_dtype: l2\n",
      "iter: 20, seed: 123\n",
      "Training the subspace: 0 / 7\n",
      "Training the subspace: 1 / 7\n",
      "Training the subspace: 2 / 7\n",
      "Training the subspace: 3 / 7\n",
      "Training the subspace: 4 / 7\n",
      "Training the subspace: 5 / 7\n",
      "Training the subspace: 6 / 7\n",
      "Encoding the subspace: 0 / 7\n",
      "Encoding the subspace: 1 / 7\n",
      "Encoding the subspace: 2 / 7\n",
      "Encoding the subspace: 3 / 7\n",
      "Encoding the subspace: 4 / 7\n",
      "Encoding the subspace: 5 / 7\n",
      "Encoding the subspace: 6 / 7\n"
     ]
    }
   ],
   "source": [
    "N, Nt, D = 10000, 2000, 70\n",
    "# X = np.random.random((N, D)).astype(np.float32)  # 10,000 128-dim vectors to be indexed\n",
    "Xt = np.random.random((Nt, D)).astype(np.float32)  # 2,000 128-dim vectors for training\n",
    "query = np.random.random((D,)).astype(np.float32)  # a 128-dim query vector\n",
    "\n",
    "# Instantiate with M=8 sub-spaces\n",
    "pq = nanopq.PQ(M=7)\n",
    "\n",
    "# Train codewords\n",
    "pq.fit(Xt)\n",
    "\n",
    "# Encode to PQ-codes\n",
    "X_code = pq.encode(data.astype(np.float32))  # (90000, 7) with dtype=np.uint8\n",
    "\n",
    "# Results: create a distance table online, and compute Asymmetric Distance to each PQ-code \n",
    "dists = pq.dtable(query).adist(X_code)  # (90000, ) "
   ]
  },
  {
   "cell_type": "code",
   "execution_count": 22,
   "id": "b69be0b9",
   "metadata": {},
   "outputs": [
    {
     "data": {
      "text/plain": [
       "array([ 8.315259 , 10.058419 ,  8.121955 , ..., 10.368339 ,  6.5310926,\n",
       "        9.235798 ], dtype=float32)"
      ]
     },
     "execution_count": 22,
     "metadata": {},
     "output_type": "execute_result"
    }
   ],
   "source": [
    "dists"
   ]
  },
  {
   "cell_type": "markdown",
   "id": "29464bf8",
   "metadata": {},
   "source": [
    "## IVF_Flat "
   ]
  },
  {
   "cell_type": "code",
   "execution_count": 23,
   "id": "b65e6218",
   "metadata": {},
   "outputs": [],
   "source": [
    "# Generating random data (1M vectors with dimension 70)\n",
    "np.random.seed(42)\n",
    "Xt = np.random.rand(2000, 70).astype('float32')\n",
    "\n",
    "# Parameters\n",
    "d = 70  # Dimension of the vectors\n",
    "nlist = 100  # Number of clusters\n",
    "quantizer = faiss.IndexFlatL2(d)  # Flat index for clustering\n",
    "\n",
    "# Create IndexIVFFlat\n",
    "index = faiss.IndexIVFFlat(quantizer, d, nlist, faiss.METRIC_L2)\n",
    "\n",
    "# Train the index\n",
    "index.train(Xt)\n",
    "index.add(data)\n",
    "\n",
    "dists_flat , ids_flat = index.search(Q,5)\n",
    "\n",
    "# Save the index\n",
    "# faiss.write_index(index, \"index_ivf_flat.index\")\n"
   ]
  },
  {
   "cell_type": "code",
   "execution_count": 30,
   "id": "c2d37c87",
   "metadata": {},
   "outputs": [
    {
     "data": {
      "text/plain": [
       "array([[5.3858967, 6.0609307, 6.4695992, 6.737144 , 6.7718644]],\n",
       "      dtype=float32)"
      ]
     },
     "execution_count": 30,
     "metadata": {},
     "output_type": "execute_result"
    }
   ],
   "source": [
    "dists_flat"
   ]
  },
  {
   "cell_type": "code",
   "execution_count": 24,
   "id": "1172764e",
   "metadata": {},
   "outputs": [
    {
     "name": "stdout",
     "output_type": "stream",
     "text": [
      "[0.87566758]\n",
      "[0.85286316]\n",
      "[0.84701471]\n",
      "[0.85537844]\n",
      "[0.83242422]\n"
     ]
    }
   ],
   "source": [
    "b = Q[0]\n",
    "for idx in ids_flat[0]:\n",
    "    a = data[idx,:].reshape(1,-1)\n",
    "    print(np.dot(a, b)/(np.linalg.norm(a)*(np.linalg.norm(b))))"
   ]
  },
  {
   "cell_type": "markdown",
   "id": "b8b31282",
   "metadata": {},
   "source": [
    "## Index IVFPQ only"
   ]
  },
  {
   "cell_type": "code",
   "execution_count": 26,
   "id": "cd10e576",
   "metadata": {},
   "outputs": [],
   "source": [
    "# Generating random data (1M vectors with dimension 70)\n",
    "np.random.seed(42)\n",
    "Xt = np.random.rand(2000, 70).astype('float32')\n",
    "\n",
    "# Parameters\n",
    "d = 70  # Dimension of the vectors\n",
    "nlist = 100  # Number of clusters\n",
    "m = 7  # Number of subquantizers\n",
    "nbits = 8  # Number of bits for quantization\n",
    "\n",
    "# Create IndexIVFPQ\n",
    "index = faiss.IndexIVFPQ(faiss.IndexFlatL2(d), d, nlist, m, nbits)\n",
    "\n",
    "# Train the index\n",
    "index.train(Xt)\n",
    "index.add(data)\n",
    "\n",
    "dists_ivfpq , ids_ivfpq = index.search(Q,5)\n",
    "\n",
    "\n",
    "\n",
    "# Save the index\n",
    "#faiss.write_index(index, \"index_ivf_pq.index\")\n"
   ]
  },
  {
   "cell_type": "code",
   "execution_count": 29,
   "id": "dfb49656",
   "metadata": {},
   "outputs": [
    {
     "data": {
      "text/plain": [
       "array([[5.275448 , 5.438001 , 5.5207634, 5.5406556, 5.6021733]],\n",
       "      dtype=float32)"
      ]
     },
     "execution_count": 29,
     "metadata": {},
     "output_type": "execute_result"
    }
   ],
   "source": [
    "dists_ivfpq"
   ]
  },
  {
   "cell_type": "code",
   "execution_count": 27,
   "id": "30d22eb5",
   "metadata": {},
   "outputs": [
    {
     "name": "stdout",
     "output_type": "stream",
     "text": [
      "[0.87566758]\n",
      "[0.80307938]\n",
      "[0.84244655]\n",
      "[0.85267913]\n",
      "[0.82478373]\n"
     ]
    }
   ],
   "source": [
    "b = Q[0]\n",
    "for idx in ids_ivfpq[0]:\n",
    "    a = data[idx,:].reshape(1,-1)\n",
    "    print(np.dot(a, b)/(np.linalg.norm(a)*(np.linalg.norm(b))))"
   ]
  },
  {
   "cell_type": "markdown",
   "id": "608d2a6a",
   "metadata": {},
   "source": [
    "## IVF only "
   ]
  },
  {
   "cell_type": "code",
   "execution_count": 28,
   "id": "4a537ac3",
   "metadata": {},
   "outputs": [
    {
     "ename": "AttributeError",
     "evalue": "No constructor defined - class is abstract",
     "output_type": "error",
     "traceback": [
      "\u001b[1;31m---------------------------------------------------------------------------\u001b[0m",
      "\u001b[1;31mAttributeError\u001b[0m                            Traceback (most recent call last)",
      "\u001b[1;32m~\\AppData\\Local\\Temp\\ipykernel_18892\\4001979268.py\u001b[0m in \u001b[0;36m?\u001b[1;34m()\u001b[0m\n\u001b[0;32m      7\u001b[0m \u001b[0mnlist\u001b[0m \u001b[1;33m=\u001b[0m \u001b[1;36m100\u001b[0m  \u001b[1;31m# Number of clusters\u001b[0m\u001b[1;33m\u001b[0m\u001b[1;33m\u001b[0m\u001b[0m\n\u001b[0;32m      8\u001b[0m \u001b[0mquantizer\u001b[0m \u001b[1;33m=\u001b[0m \u001b[0mfaiss\u001b[0m\u001b[1;33m.\u001b[0m\u001b[0mIndexFlatL2\u001b[0m\u001b[1;33m(\u001b[0m\u001b[0md\u001b[0m\u001b[1;33m)\u001b[0m  \u001b[1;31m# Flat index for clustering\u001b[0m\u001b[1;33m\u001b[0m\u001b[1;33m\u001b[0m\u001b[0m\n\u001b[0;32m      9\u001b[0m \u001b[1;33m\u001b[0m\u001b[0m\n\u001b[0;32m     10\u001b[0m \u001b[1;31m# Create IndexIVF\u001b[0m\u001b[1;33m\u001b[0m\u001b[1;33m\u001b[0m\u001b[0m\n\u001b[1;32m---> 11\u001b[1;33m \u001b[0mindex\u001b[0m \u001b[1;33m=\u001b[0m \u001b[0mfaiss\u001b[0m\u001b[1;33m.\u001b[0m\u001b[0mIndexIVF\u001b[0m\u001b[1;33m(\u001b[0m\u001b[0mquantizer\u001b[0m\u001b[1;33m,\u001b[0m \u001b[0md\u001b[0m\u001b[1;33m,\u001b[0m \u001b[0mnlist\u001b[0m\u001b[1;33m,\u001b[0m \u001b[0mfaiss\u001b[0m\u001b[1;33m.\u001b[0m\u001b[0mMETRIC_L2\u001b[0m\u001b[1;33m)\u001b[0m\u001b[1;33m\u001b[0m\u001b[1;33m\u001b[0m\u001b[0m\n\u001b[0m\u001b[0;32m     12\u001b[0m \u001b[1;33m\u001b[0m\u001b[0m\n\u001b[0;32m     13\u001b[0m \u001b[1;31m# Train the index\u001b[0m\u001b[1;33m\u001b[0m\u001b[1;33m\u001b[0m\u001b[0m\n\u001b[0;32m     14\u001b[0m \u001b[0mindex\u001b[0m\u001b[1;33m.\u001b[0m\u001b[0mtrain\u001b[0m\u001b[1;33m(\u001b[0m\u001b[0mXt\u001b[0m\u001b[1;33m)\u001b[0m\u001b[1;33m\u001b[0m\u001b[1;33m\u001b[0m\u001b[0m\n",
      "\u001b[1;32m~\\AppData\\Local\\anaconda3\\envs\\pyfaiss\\lib\\site-packages\\faiss\\swigfaiss.py\u001b[0m in \u001b[0;36m?\u001b[1;34m(self, *args, **kwargs)\u001b[0m\n\u001b[0;32m   5315\u001b[0m     \u001b[1;32mdef\u001b[0m \u001b[0m__init__\u001b[0m\u001b[1;33m(\u001b[0m\u001b[0mself\u001b[0m\u001b[1;33m,\u001b[0m \u001b[1;33m*\u001b[0m\u001b[0margs\u001b[0m\u001b[1;33m,\u001b[0m \u001b[1;33m**\u001b[0m\u001b[0mkwargs\u001b[0m\u001b[1;33m)\u001b[0m\u001b[1;33m:\u001b[0m\u001b[1;33m\u001b[0m\u001b[1;33m\u001b[0m\u001b[0m\n\u001b[1;32m-> 5316\u001b[1;33m         \u001b[1;32mraise\u001b[0m \u001b[0mAttributeError\u001b[0m\u001b[1;33m(\u001b[0m\u001b[1;34m\"No constructor defined - class is abstract\"\u001b[0m\u001b[1;33m)\u001b[0m\u001b[1;33m\u001b[0m\u001b[1;33m\u001b[0m\u001b[0m\n\u001b[0m",
      "\u001b[1;31mAttributeError\u001b[0m: No constructor defined - class is abstract"
     ]
    }
   ],
   "source": [
    "# Generating random data (1M vectors with dimension 70)\n",
    "np.random.seed(42)\n",
    "Xt = np.random.rand(2000, 70).astype('float32')\n",
    "\n",
    "# Parameters\n",
    "d = 70  # Dimension of the vectors\n",
    "nlist = 100  # Number of clusters\n",
    "quantizer = faiss.IndexFlatL2(d)  # Flat index for clustering\n",
    "\n",
    "# Create IndexIVF\n",
    "index = faiss.IndexIVF(quantizer, d, nlist, faiss.METRIC_L2)\n",
    "\n",
    "# Train the index\n",
    "index.train(Xt)\n",
    "index.add(data)\n",
    "\n",
    "# Save the index\n",
    "# faiss.write_index(index, \"index_ivf.index\")\n"
   ]
  },
  {
   "cell_type": "code",
   "execution_count": null,
   "id": "eb581226",
   "metadata": {},
   "outputs": [],
   "source": []
  }
 ],
 "metadata": {
  "kernelspec": {
   "display_name": "pyfaiss",
   "language": "python",
   "name": "pyfaiss"
  },
  "language_info": {
   "codemirror_mode": {
    "name": "ipython",
    "version": 3
   },
   "file_extension": ".py",
   "mimetype": "text/x-python",
   "name": "python",
   "nbconvert_exporter": "python",
   "pygments_lexer": "ipython3",
   "version": "3.10.13"
  }
 },
 "nbformat": 4,
 "nbformat_minor": 5
}
