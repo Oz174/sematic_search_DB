{
 "cells": [
  {
   "cell_type": "code",
   "execution_count": 1,
   "id": "515508f1",
   "metadata": {},
   "outputs": [],
   "source": [
    "import faiss"
   ]
  },
  {
   "cell_type": "code",
   "execution_count": 2,
   "id": "2c3317cc",
   "metadata": {},
   "outputs": [],
   "source": [
    "import numpy as np "
   ]
  },
  {
   "cell_type": "code",
   "execution_count": null,
   "id": "5a350192",
   "metadata": {},
   "outputs": [],
   "source": [
    "# Xt = np.loadtxt('../zebala/saved_db_5m.csv', delimiter = ',')"
   ]
  },
  {
   "cell_type": "code",
   "execution_count": 3,
   "id": "e876e17e",
   "metadata": {},
   "outputs": [
    {
     "data": {
      "text/plain": [
       "(100000, 70)"
      ]
     },
     "execution_count": 3,
     "metadata": {},
     "output_type": "execute_result"
    }
   ],
   "source": [
    "rng = np.random.default_rng(200)\n",
    "vectors = rng.random((10**5, 70), dtype=np.float32)\n",
    "\n",
    "vectors.shape"
   ]
  },
  {
   "cell_type": "code",
   "execution_count": 4,
   "id": "18a56da3",
   "metadata": {},
   "outputs": [
    {
     "data": {
      "text/plain": [
       "array([[0.03806317, 0.64683414, 0.23583442, 0.6639199 , 0.33604568,\n",
       "        0.02990162, 0.5436652 , 0.17783129, 0.89160764, 0.57349664,\n",
       "        0.43597007, 0.551164  , 0.47267753, 0.52692044, 0.47771925,\n",
       "        0.37424278, 0.7041597 , 0.06079406, 0.67475194, 0.36999255,\n",
       "        0.44853985, 0.3575145 , 0.69858366, 0.241557  , 0.62255454,\n",
       "        0.044173  , 0.00221592, 0.90875757, 0.7624761 , 0.52673286,\n",
       "        0.8637938 , 0.11358559, 0.6735863 , 0.14124113, 0.79021454,\n",
       "        0.44684768, 0.07083786, 0.50149125, 0.80701876, 0.78536385,\n",
       "        0.22534001, 0.04118073, 0.6816156 , 0.2719401 , 0.01268417,\n",
       "        0.8496885 , 0.8404332 , 0.9196788 , 0.8326662 , 0.56165546,\n",
       "        0.7264039 , 0.26703602, 0.6613052 , 0.7362026 , 0.6181503 ,\n",
       "        0.03443956, 0.76080143, 0.6502585 , 0.7003726 , 0.18064976,\n",
       "        0.825382  , 0.45629853, 0.74387693, 0.6759924 , 0.6282045 ,\n",
       "        0.8709608 , 0.03340232, 0.7640089 , 0.34944552, 0.74151176]],\n",
       "      dtype=float32)"
      ]
     },
     "execution_count": 4,
     "metadata": {},
     "output_type": "execute_result"
    }
   ],
   "source": [
    "data = vectors.copy()\n",
    "data[:1,:]"
   ]
  },
  {
   "cell_type": "markdown",
   "id": "549d571e",
   "metadata": {},
   "source": [
    "## Trial 1 : Using IndexFlatL2 as coarse quantizer and IVFPQ "
   ]
  },
  {
   "cell_type": "code",
   "execution_count": 43,
   "id": "b7b6e67d",
   "metadata": {},
   "outputs": [
    {
     "ename": "NameError",
     "evalue": "name 'index' is not defined",
     "output_type": "error",
     "traceback": [
      "\u001b[1;31m---------------------------------------------------------------------------\u001b[0m",
      "\u001b[1;31mNameError\u001b[0m                                 Traceback (most recent call last)",
      "Cell \u001b[1;32mIn[43], line 1\u001b[0m\n\u001b[1;32m----> 1\u001b[0m \u001b[38;5;28;01mdel\u001b[39;00m index\n",
      "\u001b[1;31mNameError\u001b[0m: name 'index' is not defined"
     ]
    }
   ],
   "source": [
    "del index"
   ]
  },
  {
   "cell_type": "code",
   "execution_count": 69,
   "id": "40326bc2",
   "metadata": {},
   "outputs": [],
   "source": [
    "quantizer = faiss.IndexFlatL2(data.shape[1])\n",
    "\n",
    "index = faiss.IndexIVFPQ(quantizer,70,100,7,8) #=> Quantizer , Dimension , clusters , reduceDimension , nbits"
   ]
  },
  {
   "cell_type": "code",
   "execution_count": 70,
   "id": "349ae2c7",
   "metadata": {},
   "outputs": [],
   "source": [
    "rng = np.random.default_rng(100)\n",
    "Xtrain = rng.random((2500, 70), dtype=np.float32)"
   ]
  },
  {
   "cell_type": "code",
   "execution_count": 71,
   "id": "fbbf699b",
   "metadata": {},
   "outputs": [],
   "source": [
    "index.train(Xtrain)"
   ]
  },
  {
   "cell_type": "code",
   "execution_count": 72,
   "id": "5e2a4b00",
   "metadata": {},
   "outputs": [],
   "source": [
    "index.add(data)"
   ]
  },
  {
   "cell_type": "code",
   "execution_count": 73,
   "id": "279c657a",
   "metadata": {},
   "outputs": [
    {
     "data": {
      "text/plain": [
       "array([[0.7668845 , 0.8349816 , 0.12417817, 0.596554  , 0.08026338,\n",
       "        0.28886324, 0.44347   , 0.04295152, 0.58785254, 0.9736544 ,\n",
       "        0.947227  , 0.59647167, 0.4118786 , 0.7902631 , 0.924844  ,\n",
       "        0.91033936, 0.00349164, 0.6881544 , 0.7191256 , 0.18999141,\n",
       "        0.50552726, 0.9814789 , 0.687205  , 0.28474003, 0.3224274 ,\n",
       "        0.6292731 , 0.14462936, 0.58103645, 0.57213193, 0.5999122 ,\n",
       "        0.7742522 , 0.5352481 , 0.7242624 , 0.9957771 , 0.1285438 ,\n",
       "        0.50194603, 0.12643135, 0.77102256, 0.14178151, 0.49416173,\n",
       "        0.22792953, 0.99767447, 0.43094128, 0.9786219 , 0.88263243,\n",
       "        0.39356804, 0.44872624, 0.32192522, 0.8011627 , 0.86218065,\n",
       "        0.48825973, 0.79932487, 0.9635074 , 0.6914306 , 0.7044168 ,\n",
       "        0.40851784, 0.9652947 , 0.38976508, 0.64390755, 0.13164836,\n",
       "        0.6317189 , 0.62549746, 0.17958134, 0.08240134, 0.82947433,\n",
       "        0.27457297, 0.8404267 , 0.656117  , 0.11085582, 0.01467597]],\n",
       "      dtype=float32)"
      ]
     },
     "execution_count": 73,
     "metadata": {},
     "output_type": "execute_result"
    }
   ],
   "source": [
    "rng = np.random.default_rng(100)\n",
    "Q = rng.random((1,70), dtype=np.float32)\n",
    "Q"
   ]
  },
  {
   "cell_type": "code",
   "execution_count": 74,
   "id": "b7da4763",
   "metadata": {},
   "outputs": [
    {
     "name": "stdout",
     "output_type": "stream",
     "text": [
      "CPU times: total: 0 ns\n",
      "Wall time: 1.48 ms\n"
     ]
    },
    {
     "data": {
      "text/plain": [
       "array([[5.5443997, 5.7065644, 5.729079 , 5.779186 , 5.8386874]],\n",
       "      dtype=float32)"
      ]
     },
     "execution_count": 74,
     "metadata": {},
     "output_type": "execute_result"
    }
   ],
   "source": [
    "%%time\n",
    "\n",
    "dist_x , id_x = index.search(Q,5)\n",
    "\n",
    "dist_x"
   ]
  },
  {
   "cell_type": "code",
   "execution_count": null,
   "id": "0d9a0ac3",
   "metadata": {},
   "outputs": [],
   "source": [
    "faiss.write_index(index, \"index_ivfpq_100k.index\")"
   ]
  },
  {
   "cell_type": "markdown",
   "id": "dc457e90",
   "metadata": {},
   "source": [
    "## Trial 2 : Using hnsw as a quantizer with IVFPQ"
   ]
  },
  {
   "cell_type": "code",
   "execution_count": null,
   "id": "3168b279",
   "metadata": {},
   "outputs": [],
   "source": [
    "del quantizer_hnsw"
   ]
  },
  {
   "cell_type": "code",
   "execution_count": null,
   "id": "bc07b1f2",
   "metadata": {},
   "outputs": [],
   "source": [
    "quantizer_hnsw = faiss.IndexHNSWFlat(70,30)\n",
    "# index_hnswivfpq = faiss.IndexIVFPQ(quantizer_hnsw, 70, 1000, 35, 8)"
   ]
  },
  {
   "cell_type": "code",
   "execution_count": null,
   "id": "69de504e",
   "metadata": {},
   "outputs": [],
   "source": [
    "%time\n",
    "# quantizer_hnsw.train(Xtrain)\n",
    "quantizer_hnsw.add(data)"
   ]
  },
  {
   "cell_type": "code",
   "execution_count": null,
   "id": "1814fad6",
   "metadata": {},
   "outputs": [],
   "source": [
    "%%time\n",
    "index_hnswivfpq.train(Xtrain)\n",
    "index_hnswivfpq.add(data)"
   ]
  },
  {
   "cell_type": "code",
   "execution_count": null,
   "id": "a100ed6b",
   "metadata": {},
   "outputs": [],
   "source": [
    "%time dists , ids = quantizer_hnsw.search(Q,10)\n",
    "\n",
    "dists"
   ]
  },
  {
   "cell_type": "code",
   "execution_count": null,
   "id": "7f56f8ba",
   "metadata": {},
   "outputs": [],
   "source": [
    "Q"
   ]
  },
  {
   "cell_type": "markdown",
   "id": "c2b59d83",
   "metadata": {},
   "source": [
    "## Statistics and Comparison between cosine similarity of Q and the vectors in data  "
   ]
  },
  {
   "cell_type": "markdown",
   "id": "4f96730e",
   "metadata": {},
   "source": [
    "### Brute-Force cos-similarity "
   ]
  },
  {
   "cell_type": "code",
   "execution_count": null,
   "id": "3837be9a",
   "metadata": {
    "scrolled": true
   },
   "outputs": [],
   "source": [
    "b = Q[0]\n",
    "a3la_cos_sim = []\n",
    "for idx in range(90000):\n",
    "    a = data[idx,:].reshape(1,-1)\n",
    "    xos = np.dot(a, b)/(np.linalg.norm(a)*(np.linalg.norm(b)))\n",
    "    if xos > 0.85:\n",
    "        a3la_cos_sim.append(xos)\n",
    "        print(xos, idx)"
   ]
  },
  {
   "cell_type": "code",
   "execution_count": null,
   "id": "76ac612e",
   "metadata": {},
   "outputs": [],
   "source": [
    "np.max(a3la_cos_sim)"
   ]
  },
  {
   "cell_type": "markdown",
   "id": "9865808e",
   "metadata": {},
   "source": [
    "## Ids extracted from faiss hnswivfpq as nearest distance"
   ]
  },
  {
   "cell_type": "code",
   "execution_count": null,
   "id": "9d914afd",
   "metadata": {},
   "outputs": [],
   "source": [
    "print(id_x) #=> ivfpq no hnsw\n",
    "b = Q[0]\n",
    "for idx in id_x[0]:\n",
    "    a = data[idx,:].reshape(1,-1)\n",
    "    print(np.dot(a, b)/(np.linalg.norm(a)*(np.linalg.norm(b))))"
   ]
  },
  {
   "cell_type": "code",
   "execution_count": null,
   "id": "e638dad7",
   "metadata": {},
   "outputs": [],
   "source": [
    "print(ids) #=> with hnsw\n",
    "\n",
    "b = Q[0]\n",
    "for idx in ids[0]:\n",
    "    a = data[idx,:].reshape(1,-1)\n",
    "    print(np.dot(a, b)/(np.linalg.norm(a)*(np.linalg.norm(b))))"
   ]
  },
  {
   "cell_type": "markdown",
   "id": "0b451313",
   "metadata": {},
   "source": [
    "## PQ"
   ]
  },
  {
   "cell_type": "code",
   "execution_count": null,
   "id": "947a611c",
   "metadata": {},
   "outputs": [],
   "source": [
    "import nanopq"
   ]
  },
  {
   "cell_type": "code",
   "execution_count": null,
   "id": "78acfc34",
   "metadata": {},
   "outputs": [],
   "source": [
    "N, Nt, D = 10000, 5000, 70\n",
    "# X = np.random.random((N, D)).astype(np.float32)  # 10,000 128-dim vectors to be indexed\n",
    "Xt = np.random.random((Nt, D)).astype(np.float32)  # 2,000 128-dim vectors for training\n",
    "query = np.random.random((D,)).astype(np.float32)  # a 128-dim query vector\n",
    "\n",
    "# Instantiate with M=8 sub-spaces\n",
    "pq = nanopq.PQ(M=7)\n",
    "\n",
    "# Train codewords\n",
    "pq.fit(Xt)\n",
    "\n",
    "# Encode to PQ-codes\n",
    "X_code = pq.encode(data.astype(np.float32))  # (90000, 7) with dtype=np.uint8\n",
    "\n",
    "# Results: create a distance table online, and compute Asymmetric Distance to each PQ-code \n",
    "dists = pq.dtable(query).adist(X_code)  # (90000, ) "
   ]
  },
  {
   "cell_type": "code",
   "execution_count": null,
   "id": "05587484",
   "metadata": {},
   "outputs": [],
   "source": [
    "dists"
   ]
  },
  {
   "cell_type": "markdown",
   "id": "4ed2c2cc",
   "metadata": {},
   "source": [
    "## IVF_Flat    WINNER WINNER CHICKEN DINNER"
   ]
  },
  {
   "cell_type": "code",
   "execution_count": null,
   "id": "be60903e",
   "metadata": {},
   "outputs": [],
   "source": [
    "from memory_profiler import memory_usage\n",
    "\n",
    "\n",
    "def memory_usage_run_queries(args):\n",
    "    # This part is added to calcauate the RAM usage\n",
    "    mem_before = max(memory_usage())\n",
    "    mem = memory_usage(proc=(run_queries, args, {}), interval = 1e-3)\n",
    "    return max(mem) - mem_before\n",
    "\n",
    "\n"
   ]
  },
  {
   "cell_type": "code",
   "execution_count": null,
   "id": "249b41dd",
   "metadata": {},
   "outputs": [],
   "source": [
    "# Generating random data (1M vectors with dimension 70)\n",
    "np.random.seed(42)\n",
    "Xt = np.random.rand(10000, 70).astype('float32')\n",
    "\n",
    "# Parameters\n",
    "d = 70  # Dimension of the vectors\n",
    "nlist = 100  # Number of clusters\n",
    "quantizer = faiss.IndexFlatL2(d)  # Flat index for clustering\n",
    "\n",
    "# Create IndexIVFFlat\n",
    "index = faiss.IndexIVFFlat(quantizer, d, nlist, faiss.METRIC_L2)\n",
    "\n",
    "index.train(Xt)\n",
    "index.add(data)\n",
    "\n",
    "# Save the index\n",
    "# faiss.write_index(index, \"index_ivf_flat.index\")\n"
   ]
  },
  {
   "cell_type": "code",
   "execution_count": null,
   "id": "d0fc0b97",
   "metadata": {},
   "outputs": [],
   "source": [
    "def run_queries(Q,K):\n",
    "    dists_flat , ids_flat = index.search(Q,K)\n",
    "    return dists_flat, ids_flat\n",
    "\n",
    "memory_usage_run_queries((Q,40))"
   ]
  },
  {
   "cell_type": "code",
   "execution_count": null,
   "id": "7e86644a",
   "metadata": {},
   "outputs": [],
   "source": [
    "dists_flat # L2 distance "
   ]
  },
  {
   "cell_type": "code",
   "execution_count": null,
   "id": "c66c5a8c",
   "metadata": {},
   "outputs": [],
   "source": [
    "b = Q[0] #cosine similarity\n",
    "for idx in ids_flat[0]:\n",
    "    a = data[idx,:].reshape(1,-1)\n",
    "    print(np.dot(a, b)/(np.linalg.norm(a)*(np.linalg.norm(b))))"
   ]
  },
  {
   "cell_type": "code",
   "execution_count": null,
   "id": "bb142f57",
   "metadata": {},
   "outputs": [],
   "source": []
  },
  {
   "cell_type": "markdown",
   "id": "016bdf95",
   "metadata": {},
   "source": [
    "## Index IVFPQ only"
   ]
  },
  {
   "cell_type": "code",
   "execution_count": null,
   "id": "1bf54b2a",
   "metadata": {},
   "outputs": [],
   "source": [
    "# Generating random data (1M vectors with dimension 70)\n",
    "np.random.seed(42)\n",
    "Xt = np.random.rand(10000, 70).astype('float32')\n",
    "\n",
    "# Parameters\n",
    "d = 70  # Dimension of the vectors\n",
    "nlist = 100  # Number of clusters\n",
    "m = 7  # Number of subquantizers\n",
    "nbits = 8  # Number of bits for quantization\n",
    "\n",
    "# Create IndexIVFPQ\n",
    "index = faiss.IndexIVFPQ(faiss.IndexFlatL2(d), d, nlist, m, nbits)\n",
    "\n",
    "# Train the index\n",
    "index.train(Xt)\n",
    "index.add(data)\n",
    "\n",
    "dists_ivfpq , ids_ivfpq = index.search(Q,5)\n",
    "\n",
    "\n",
    "\n",
    "# Save the index\n",
    "#faiss.write_index(index, \"index_ivf_pq.index\")\n"
   ]
  },
  {
   "cell_type": "code",
   "execution_count": null,
   "id": "cd6bf632",
   "metadata": {},
   "outputs": [],
   "source": [
    "dists_ivfpq"
   ]
  },
  {
   "cell_type": "code",
   "execution_count": null,
   "id": "8aa3a111",
   "metadata": {},
   "outputs": [],
   "source": [
    "b = Q[0]\n",
    "for idx in ids_ivfpq[0]:\n",
    "    a = data[idx,:].reshape(1,-1)\n",
    "    print(np.dot(a, b)/(np.linalg.norm(a)*(np.linalg.norm(b))))"
   ]
  },
  {
   "cell_type": "markdown",
   "id": "009da7c7",
   "metadata": {},
   "source": [
    "## IVF only "
   ]
  },
  {
   "cell_type": "code",
   "execution_count": null,
   "id": "a29c746f",
   "metadata": {},
   "outputs": [],
   "source": [
    "# Generating random data (1M vectors with dimension 70)\n",
    "np.random.seed(42)\n",
    "Xt = np.random.rand(2000, 70).astype('float32')\n",
    "\n",
    "# Parameters\n",
    "d = 70  # Dimension of the vectors\n",
    "nlist = 100  # Number of clusters\n",
    "quantizer = faiss.IndexFlatL2(d)  # Flat index for clustering\n",
    "\n",
    "# Create IndexIVF\n",
    "index = faiss.IndexIVF(quantizer, d, nlist, faiss.METRIC_L2)\n",
    "\n",
    "# Train the index\n",
    "index.train(Xt)\n",
    "index.add(data)\n",
    "\n",
    "# Save the index\n",
    "# faiss.write_index(index, \"index_ivf.index\")\n"
   ]
  },
  {
   "cell_type": "code",
   "execution_count": null,
   "id": "3e682ad8",
   "metadata": {},
   "outputs": [],
   "source": []
  }
 ],
 "metadata": {
  "kernelspec": {
   "display_name": "pyfaiss",
   "language": "python",
   "name": "pyfaiss"
  },
  "language_info": {
   "codemirror_mode": {
    "name": "ipython",
    "version": 3
   },
   "file_extension": ".py",
   "mimetype": "text/x-python",
   "name": "python",
   "nbconvert_exporter": "python",
   "pygments_lexer": "ipython3",
   "version": "3.10.13"
  }
 },
 "nbformat": 4,
 "nbformat_minor": 5
}
